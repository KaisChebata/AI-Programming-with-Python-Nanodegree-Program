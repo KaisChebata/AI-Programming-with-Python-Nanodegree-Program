{
 "cells": [
  {
   "cell_type": "code",
   "execution_count": 1,
   "source": [
    "a = [[3, 1, 2], [-5, 4, 1], [0, 3, -8]]\r\n",
    "b = [[0, 5, -1], [3, 2, -1], [10, 0.5, 4]]"
   ],
   "outputs": [],
   "metadata": {}
  },
  {
   "cell_type": "code",
   "execution_count": 35,
   "source": [
    "# 3x3 matrix\r\n",
    "x = [[12,7,3],\r\n",
    "    [4 ,5,6],\r\n",
    "    [7 ,8,9]]\r\n",
    "\r\n",
    "# 3x4 matrix\r\n",
    "y = [[5,8,1,2],\r\n",
    "    [6,7,3,0],\r\n",
    "    [4,5,9,1]]\r\n",
    "\r\n",
    "# # result is 3x4\r\n",
    "# result = [[0,0,0,0],\r\n",
    "#          [0,0,0,0],\r\n",
    "#          [0,0,0,0]]\r\n",
    "print(x)\r\n",
    "print(y)"
   ],
   "outputs": [
    {
     "output_type": "stream",
     "name": "stdout",
     "text": [
      "[[12, 7, 3], [4, 5, 6], [7, 8, 9]]\n",
      "[[5, 8, 1, 2], [6, 7, 3, 0], [4, 5, 9, 1]]\n"
     ]
    }
   ],
   "metadata": {}
  },
  {
   "cell_type": "code",
   "execution_count": 16,
   "source": [
    "def mat_mul(a, b):\r\n",
    "    r = [[0, 0, 0], [0, 0, 0], [0, 0, 0]]\r\n",
    "    for i in range(len(a)):\r\n",
    "        for j in range (len(b[0])):\r\n",
    "            for k in range(len(b)):\r\n",
    "                r[i][j] += a[i][k] * b[k][j]\r\n",
    "    return r"
   ],
   "outputs": [],
   "metadata": {}
  },
  {
   "cell_type": "code",
   "execution_count": 42,
   "source": [
    "def matrix_mul_v1(x:list, y:list) -> list:\r\n",
    "    result = [[0 for _ in range(len(y[0]))] for _ in range(len(x))]\r\n",
    "    for i in range(len(x)):\r\n",
    "        for j in range(len(y[0])):\r\n",
    "            for k in range(len(y)):\r\n",
    "                result[i][j] += x[i][k] * y[k][j]\r\n",
    "    return result\r\n",
    "                "
   ],
   "outputs": [],
   "metadata": {}
  },
  {
   "cell_type": "code",
   "execution_count": 43,
   "source": [
    "matrix_mul_v1(b, a)"
   ],
   "outputs": [
    {
     "output_type": "execute_result",
     "data": {
      "text/plain": [
       "[[-25, 17, 13], [-1, 8, 16], [27.5, 24.0, -11.5]]"
      ]
     },
     "metadata": {},
     "execution_count": 43
    }
   ],
   "metadata": {}
  }
 ],
 "metadata": {
  "kernelspec": {
   "name": "python3",
   "display_name": "Python 3.8.5 64-bit ('base': conda)"
  },
  "language_info": {
   "codemirror_mode": {
    "name": "ipython",
    "version": 3
   },
   "file_extension": ".py",
   "mimetype": "text/x-python",
   "name": "python",
   "nbconvert_exporter": "python",
   "pygments_lexer": "ipython3",
   "version": "3.8.5"
  },
  "interpreter": {
   "hash": "814c6adc28795effbb11e471ebb7fca5c11b88f1edc39a1602e0a53a1433a25a"
  }
 },
 "nbformat": 4,
 "nbformat_minor": 5
}