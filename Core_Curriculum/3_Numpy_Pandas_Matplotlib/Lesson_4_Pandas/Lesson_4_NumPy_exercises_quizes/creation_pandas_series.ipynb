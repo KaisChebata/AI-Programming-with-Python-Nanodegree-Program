{
 "cells": [
  {
   "cell_type": "code",
   "execution_count": 60,
   "id": "fe60ba6b",
   "metadata": {},
   "outputs": [],
   "source": [
    "import pandas as pd"
   ]
  },
  {
   "cell_type": "markdown",
   "id": "79b85875",
   "metadata": {},
   "source": [
    "### Creating Pandas Series"
   ]
  },
  {
   "cell_type": "code",
   "execution_count": 61,
   "id": "c86098de",
   "metadata": {},
   "outputs": [
    {
     "data": {
      "text/plain": [
       "eggs       30\n",
       "apples      6\n",
       "milk      Yes\n",
       "bread      No\n",
       "dtype: object"
      ]
     },
     "execution_count": 61,
     "metadata": {},
     "output_type": "execute_result"
    }
   ],
   "source": [
    "groceries = pd.Series(data=[30, 6, 'Yes', 'No'], index=['eggs', 'apples', 'milk', 'bread'])\n",
    "groceries"
   ]
  },
  {
   "cell_type": "markdown",
   "id": "5ce485d5",
   "metadata": {},
   "source": [
    "### Operations on Series"
   ]
  },
  {
   "cell_type": "code",
   "execution_count": 62,
   "id": "19272b3d",
   "metadata": {},
   "outputs": [
    {
     "data": {
      "text/plain": [
       "(4,)"
      ]
     },
     "execution_count": 62,
     "metadata": {},
     "output_type": "execute_result"
    }
   ],
   "source": [
    "# Shape of Series\n",
    "groceries.shape"
   ]
  },
  {
   "cell_type": "code",
   "execution_count": 63,
   "id": "6a8f2d67",
   "metadata": {},
   "outputs": [
    {
     "data": {
      "text/plain": [
       "1"
      ]
     },
     "execution_count": 63,
     "metadata": {},
     "output_type": "execute_result"
    }
   ],
   "source": [
    "# n-dim of Series\n",
    "groceries.ndim"
   ]
  },
  {
   "cell_type": "code",
   "execution_count": 64,
   "id": "b2ed4bb5",
   "metadata": {},
   "outputs": [
    {
     "data": {
      "text/plain": [
       "Index(['eggs', 'apples', 'milk', 'bread'], dtype='object')"
      ]
     },
     "execution_count": 64,
     "metadata": {},
     "output_type": "execute_result"
    }
   ],
   "source": [
    "# getting indicies of Series\n",
    "groceries.index"
   ]
  },
  {
   "cell_type": "code",
   "execution_count": 65,
   "id": "2bb0b069",
   "metadata": {},
   "outputs": [
    {
     "data": {
      "text/plain": [
       "4"
      ]
     },
     "execution_count": 65,
     "metadata": {},
     "output_type": "execute_result"
    }
   ],
   "source": [
    "# number of elements of Series\n",
    "groceries.size"
   ]
  },
  {
   "cell_type": "code",
   "execution_count": 66,
   "id": "8c7d6738",
   "metadata": {},
   "outputs": [
    {
     "data": {
      "text/plain": [
       "array([30, 6, 'Yes', 'No'], dtype=object)"
      ]
     },
     "execution_count": 66,
     "metadata": {},
     "output_type": "execute_result"
    }
   ],
   "source": [
    "# getting values of Series\n",
    "groceries.values"
   ]
  },
  {
   "cell_type": "code",
   "execution_count": 67,
   "id": "57ec90f2",
   "metadata": {},
   "outputs": [
    {
     "data": {
      "text/plain": [
       "False"
      ]
     },
     "execution_count": 67,
     "metadata": {},
     "output_type": "execute_result"
    }
   ],
   "source": [
    "# looking for data(value) in Series\n",
    "'banana' in groceries"
   ]
  },
  {
   "cell_type": "code",
   "execution_count": 68,
   "id": "25b5044c",
   "metadata": {},
   "outputs": [
    {
     "data": {
      "text/plain": [
       "True"
      ]
     },
     "execution_count": 68,
     "metadata": {},
     "output_type": "execute_result"
    }
   ],
   "source": [
    "# looking for data(value) in Series\n",
    "'bread' in groceries"
   ]
  },
  {
   "cell_type": "code",
   "execution_count": 69,
   "id": "d48939a6",
   "metadata": {},
   "outputs": [
    {
     "name": "stdout",
     "output_type": "stream",
     "text": [
      "RangeIndex(start=0, stop=4, step=1)\n",
      "0 1 2 3 "
     ]
    }
   ],
   "source": [
    "ser = pd.Series(data=['One', 'Two', 'Three', 'Four'], name='test')\n",
    "ser2 = pd.Series(index=[1, 2, 3, 4], dtype=int)\n",
    "print(ser.index)\n",
    "for i in ser.index:\n",
    "    print(i, end=' ')"
   ]
  },
  {
   "cell_type": "code",
   "execution_count": 70,
   "id": "c449b947",
   "metadata": {},
   "outputs": [
    {
     "data": {
      "text/plain": [
       "<PandasArray>\n",
       "[30, 6, 'Yes', 'No']\n",
       "Length: 4, dtype: object"
      ]
     },
     "execution_count": 70,
     "metadata": {},
     "output_type": "execute_result"
    }
   ],
   "source": [
    "groceries.array"
   ]
  },
  {
   "cell_type": "code",
   "execution_count": 71,
   "id": "1da50a1c",
   "metadata": {},
   "outputs": [
    {
     "data": {
      "text/plain": [
       "32"
      ]
     },
     "execution_count": 71,
     "metadata": {},
     "output_type": "execute_result"
    }
   ],
   "source": [
    "groceries.nbytes"
   ]
  },
  {
   "cell_type": "code",
   "execution_count": 72,
   "id": "6fa34307",
   "metadata": {},
   "outputs": [
    {
     "data": {
      "text/plain": [
       "eggs       30\n",
       "apples      6\n",
       "milk      Yes\n",
       "bread      No\n",
       "dtype: object"
      ]
     },
     "execution_count": 72,
     "metadata": {},
     "output_type": "execute_result"
    }
   ],
   "source": [
    "groceries.T"
   ]
  },
  {
   "cell_type": "code",
   "execution_count": 73,
   "id": "1897e505",
   "metadata": {},
   "outputs": [
    {
     "data": {
      "text/plain": [
       "eggs       30\n",
       "apples      6\n",
       "milk      Yes\n",
       "bread      No\n",
       "dtype: object"
      ]
     },
     "execution_count": 73,
     "metadata": {},
     "output_type": "execute_result"
    }
   ],
   "source": [
    "groceries"
   ]
  },
  {
   "cell_type": "code",
   "execution_count": 74,
   "id": "2b4d1fb9",
   "metadata": {},
   "outputs": [
    {
     "data": {
      "text/plain": [
       "236"
      ]
     },
     "execution_count": 74,
     "metadata": {},
     "output_type": "execute_result"
    }
   ],
   "source": [
    "groceries.memory_usage()"
   ]
  },
  {
   "cell_type": "code",
   "execution_count": 75,
   "id": "078aa67f",
   "metadata": {},
   "outputs": [
    {
     "data": {
      "text/plain": [
       "'test'"
      ]
     },
     "execution_count": 75,
     "metadata": {},
     "output_type": "execute_result"
    }
   ],
   "source": [
    "ser.name"
   ]
  },
  {
   "cell_type": "code",
   "execution_count": 76,
   "id": "ad25923a",
   "metadata": {},
   "outputs": [
    {
     "data": {
      "text/plain": [
       "<Flags(allows_duplicate_labels=True)>"
      ]
     },
     "execution_count": 76,
     "metadata": {},
     "output_type": "execute_result"
    }
   ],
   "source": [
    "ser.flags"
   ]
  }
 ],
 "metadata": {
  "kernelspec": {
   "display_name": "Python 3 (ipykernel)",
   "language": "python",
   "name": "python3"
  },
  "language_info": {
   "codemirror_mode": {
    "name": "ipython",
    "version": 3
   },
   "file_extension": ".py",
   "mimetype": "text/x-python",
   "name": "python",
   "nbconvert_exporter": "python",
   "pygments_lexer": "ipython3",
   "version": "3.8.6"
  }
 },
 "nbformat": 4,
 "nbformat_minor": 5
}
