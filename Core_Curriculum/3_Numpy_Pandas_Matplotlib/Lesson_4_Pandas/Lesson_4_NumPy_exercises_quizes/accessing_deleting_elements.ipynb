{
 "cells": [
  {
   "cell_type": "markdown",
   "id": "e9a4d4e5",
   "metadata": {},
   "source": [
    "## Accessing and Deleting Elements in Pandas Series"
   ]
  },
  {
   "cell_type": "code",
   "execution_count": 1,
   "id": "da5481e4",
   "metadata": {},
   "outputs": [],
   "source": [
    "import pandas as pd"
   ]
  },
  {
   "cell_type": "code",
   "execution_count": 44,
   "id": "6d70fca8",
   "metadata": {},
   "outputs": [
    {
     "data": {
      "text/plain": [
       "eggs       30\n",
       "apples      6\n",
       "milk      Yes\n",
       "bread      No\n",
       "dtype: object"
      ]
     },
     "execution_count": 44,
     "metadata": {},
     "output_type": "execute_result"
    }
   ],
   "source": [
    "groceries = pd.Series(data=[30, 6, 'Yes', 'No'], index=['eggs', 'apples', 'milk', 'bread'])\n",
    "groceries"
   ]
  },
  {
   "cell_type": "code",
   "execution_count": 45,
   "id": "da208b5f",
   "metadata": {},
   "outputs": [
    {
     "name": "stdout",
     "output_type": "stream",
     "text": [
      "  eggs ->         30\n",
      "apples ->          6\n",
      "  milk ->        Yes\n",
      " bread ->         No\n"
     ]
    }
   ],
   "source": [
    "for i, v in groceries.items():\n",
    "    print(f'{i:>6} -> {v:>10}')"
   ]
  },
  {
   "cell_type": "markdown",
   "id": "016a2eba",
   "metadata": {},
   "source": [
    "### Accessing elements by label index"
   ]
  },
  {
   "cell_type": "code",
   "execution_count": 46,
   "id": "8e538606",
   "metadata": {},
   "outputs": [
    {
     "data": {
      "text/plain": [
       "30"
      ]
     },
     "execution_count": 46,
     "metadata": {},
     "output_type": "execute_result"
    }
   ],
   "source": [
    "groceries['eggs']"
   ]
  },
  {
   "cell_type": "code",
   "execution_count": 47,
   "id": "33e1ccef",
   "metadata": {},
   "outputs": [
    {
     "data": {
      "text/plain": [
       "eggs     30\n",
       "milk    Yes\n",
       "dtype: object"
      ]
     },
     "execution_count": 47,
     "metadata": {},
     "output_type": "execute_result"
    }
   ],
   "source": [
    "groceries[['eggs', 'milk']]"
   ]
  },
  {
   "cell_type": "code",
   "execution_count": 48,
   "id": "065a2d4b",
   "metadata": {},
   "outputs": [
    {
     "data": {
      "text/plain": [
       "'Yes'"
      ]
     },
     "execution_count": 48,
     "metadata": {},
     "output_type": "execute_result"
    }
   ],
   "source": [
    "groceries.loc['milk']"
   ]
  },
  {
   "cell_type": "code",
   "execution_count": 49,
   "id": "ea58314e",
   "metadata": {},
   "outputs": [
    {
     "data": {
      "text/plain": [
       "bread     No\n",
       "apples     6\n",
       "dtype: object"
      ]
     },
     "execution_count": 49,
     "metadata": {},
     "output_type": "execute_result"
    }
   ],
   "source": [
    "groceries.loc[['bread', 'apples']]"
   ]
  },
  {
   "cell_type": "code",
   "execution_count": 91,
   "id": "90e68485",
   "metadata": {},
   "outputs": [
    {
     "data": {
      "text/plain": [
       "'Yes'"
      ]
     },
     "execution_count": 91,
     "metadata": {},
     "output_type": "execute_result"
    }
   ],
   "source": [
    "groceries.get('milk')"
   ]
  },
  {
   "cell_type": "code",
   "execution_count": null,
   "id": "f1593f78",
   "metadata": {},
   "outputs": [],
   "source": [
    "groceries.at['bread']"
   ]
  },
  {
   "cell_type": "code",
   "execution_count": 104,
   "id": "7651ff68",
   "metadata": {},
   "outputs": [
    {
     "data": {
      "text/plain": [
       "(('eggs', 'milk', 'bread'), (99, 'Yes', 'No'))"
      ]
     },
     "execution_count": 104,
     "metadata": {},
     "output_type": "execute_result"
    }
   ],
   "source": [
    "i, j = zip(*groceries.items())\n",
    "i, j"
   ]
  },
  {
   "cell_type": "code",
   "execution_count": 106,
   "id": "367cf83c",
   "metadata": {},
   "outputs": [
    {
     "data": {
      "text/plain": [
       "(('eggs', 'milk', 'bread'), (99, 'Yes', 'No'))"
      ]
     },
     "execution_count": 106,
     "metadata": {},
     "output_type": "execute_result"
    }
   ],
   "source": [
    "k, v = zip(*groceries.iteritems())\n",
    "k, v"
   ]
  },
  {
   "cell_type": "code",
   "execution_count": 109,
   "id": "f30db148",
   "metadata": {},
   "outputs": [
    {
     "data": {
      "text/plain": [
       "Index(['eggs', 'milk', 'bread'], dtype='object')"
      ]
     },
     "execution_count": 109,
     "metadata": {},
     "output_type": "execute_result"
    }
   ],
   "source": [
    "groceries.keys()"
   ]
  },
  {
   "cell_type": "markdown",
   "id": "085abfc9",
   "metadata": {},
   "source": [
    "### Accessing elements by num index"
   ]
  },
  {
   "cell_type": "code",
   "execution_count": 50,
   "id": "3fb27e4d",
   "metadata": {},
   "outputs": [
    {
     "data": {
      "text/plain": [
       "30"
      ]
     },
     "execution_count": 50,
     "metadata": {},
     "output_type": "execute_result"
    }
   ],
   "source": [
    "groceries[0]"
   ]
  },
  {
   "cell_type": "code",
   "execution_count": 51,
   "id": "74e719d5",
   "metadata": {},
   "outputs": [
    {
     "data": {
      "text/plain": [
       "'No'"
      ]
     },
     "execution_count": 51,
     "metadata": {},
     "output_type": "execute_result"
    }
   ],
   "source": [
    "groceries[-1]"
   ]
  },
  {
   "cell_type": "code",
   "execution_count": 52,
   "id": "d1aebd7b",
   "metadata": {},
   "outputs": [
    {
     "data": {
      "text/plain": [
       "eggs     30\n",
       "bread    No\n",
       "dtype: object"
      ]
     },
     "execution_count": 52,
     "metadata": {},
     "output_type": "execute_result"
    }
   ],
   "source": [
    "groceries[[0, 3]]"
   ]
  },
  {
   "cell_type": "code",
   "execution_count": 53,
   "id": "72febdb5",
   "metadata": {},
   "outputs": [
    {
     "data": {
      "text/plain": [
       "'Yes'"
      ]
     },
     "execution_count": 53,
     "metadata": {},
     "output_type": "execute_result"
    }
   ],
   "source": [
    "groceries.iloc[2]"
   ]
  },
  {
   "cell_type": "code",
   "execution_count": 54,
   "id": "5d382e23",
   "metadata": {},
   "outputs": [
    {
     "data": {
      "text/plain": [
       "apples      6\n",
       "milk      Yes\n",
       "dtype: object"
      ]
     },
     "execution_count": 54,
     "metadata": {},
     "output_type": "execute_result"
    }
   ],
   "source": [
    "groceries.iloc[[1, 2]]"
   ]
  },
  {
   "cell_type": "markdown",
   "id": "7ba53bb7",
   "metadata": {},
   "source": [
    "### Accessing and Changing Elements in Pandas Series"
   ]
  },
  {
   "cell_type": "code",
   "execution_count": 55,
   "id": "05144ed6",
   "metadata": {},
   "outputs": [
    {
     "name": "stdout",
     "output_type": "stream",
     "text": [
      "eggs       30\n",
      "apples      6\n",
      "milk      Yes\n",
      "bread      No\n",
      "dtype: object\n"
     ]
    },
    {
     "data": {
      "text/plain": [
       "eggs       99\n",
       "apples      6\n",
       "milk      Yes\n",
       "bread      No\n",
       "dtype: object"
      ]
     },
     "execution_count": 55,
     "metadata": {},
     "output_type": "execute_result"
    }
   ],
   "source": [
    "print(groceries)\n",
    "groceries['eggs'] = 99\n",
    "groceries"
   ]
  },
  {
   "cell_type": "markdown",
   "id": "0ebc5d78",
   "metadata": {},
   "source": [
    "### Deleting Elements in Pandas Series"
   ]
  },
  {
   "cell_type": "code",
   "execution_count": 66,
   "id": "9208adf4",
   "metadata": {},
   "outputs": [
    {
     "name": "stdout",
     "output_type": "stream",
     "text": [
      "eggs       99\n",
      "apples      6\n",
      "milk      Yes\n",
      "bread      No\n",
      "dtype: object\n",
      "[Index(['eggs', 'apples', 'milk', 'bread'], dtype='object')]\n",
      "Index(['eggs', 'apples', 'milk', 'bread'], dtype='object')\n"
     ]
    }
   ],
   "source": [
    "# for test\n",
    "print(groceries)\n",
    "print(groceries.axes)\n",
    "print(groceries.index)"
   ]
  },
  {
   "cell_type": "code",
   "execution_count": 67,
   "id": "f502a502",
   "metadata": {},
   "outputs": [
    {
     "data": {
      "text/plain": [
       "eggs      99\n",
       "milk     Yes\n",
       "bread     No\n",
       "dtype: object"
      ]
     },
     "execution_count": 67,
     "metadata": {},
     "output_type": "execute_result"
    }
   ],
   "source": [
    "# out of place deletion\n",
    "groceries.drop('apples')"
   ]
  },
  {
   "cell_type": "code",
   "execution_count": 68,
   "id": "412f64bc",
   "metadata": {},
   "outputs": [
    {
     "data": {
      "text/plain": [
       "eggs       99\n",
       "apples      6\n",
       "milk      Yes\n",
       "bread      No\n",
       "dtype: object"
      ]
     },
     "execution_count": 68,
     "metadata": {},
     "output_type": "execute_result"
    }
   ],
   "source": [
    "groceries"
   ]
  },
  {
   "cell_type": "code",
   "execution_count": 69,
   "id": "a5d54160",
   "metadata": {},
   "outputs": [],
   "source": [
    "groceries.drop('apples', inplace=True)"
   ]
  },
  {
   "cell_type": "code",
   "execution_count": 70,
   "id": "d6faa334",
   "metadata": {},
   "outputs": [
    {
     "data": {
      "text/plain": [
       "eggs      99\n",
       "milk     Yes\n",
       "bread     No\n",
       "dtype: object"
      ]
     },
     "execution_count": 70,
     "metadata": {},
     "output_type": "execute_result"
    }
   ],
   "source": [
    "groceries"
   ]
  },
  {
   "cell_type": "code",
   "execution_count": 71,
   "id": "2284d54b",
   "metadata": {},
   "outputs": [],
   "source": [
    "s = pd.Series([1, 2, 3])"
   ]
  },
  {
   "cell_type": "code",
   "execution_count": 72,
   "id": "b16dec86",
   "metadata": {},
   "outputs": [
    {
     "data": {
      "text/plain": [
       "0    1\n",
       "1    2\n",
       "2    3\n",
       "dtype: int64"
      ]
     },
     "execution_count": 72,
     "metadata": {},
     "output_type": "execute_result"
    }
   ],
   "source": [
    "s"
   ]
  },
  {
   "cell_type": "code",
   "execution_count": 80,
   "id": "b88c8e7c",
   "metadata": {},
   "outputs": [],
   "source": [
    "s.set_axis(['a', 'b', 'c'], axis=0, inplace=True)"
   ]
  },
  {
   "cell_type": "code",
   "execution_count": 81,
   "id": "3641574f",
   "metadata": {},
   "outputs": [
    {
     "name": "stdout",
     "output_type": "stream",
     "text": [
      "[Index(['a', 'b', 'c'], dtype='object')]\n"
     ]
    }
   ],
   "source": [
    "print(s.axes)"
   ]
  },
  {
   "cell_type": "code",
   "execution_count": 82,
   "id": "fb5ec0d3",
   "metadata": {},
   "outputs": [
    {
     "data": {
      "text/plain": [
       "Index(['a', 'b', 'c'], dtype='object')"
      ]
     },
     "execution_count": 82,
     "metadata": {},
     "output_type": "execute_result"
    }
   ],
   "source": [
    "s.index"
   ]
  },
  {
   "cell_type": "code",
   "execution_count": 83,
   "id": "81230139",
   "metadata": {},
   "outputs": [
    {
     "data": {
      "text/plain": [
       "array([1, 2, 3], dtype=int64)"
      ]
     },
     "execution_count": 83,
     "metadata": {},
     "output_type": "execute_result"
    }
   ],
   "source": [
    "s.values"
   ]
  },
  {
   "cell_type": "code",
   "execution_count": null,
   "id": "5b99dd3b",
   "metadata": {},
   "outputs": [],
   "source": []
  }
 ],
 "metadata": {
  "kernelspec": {
   "display_name": "Python 3 (ipykernel)",
   "language": "python",
   "name": "python3"
  },
  "language_info": {
   "codemirror_mode": {
    "name": "ipython",
    "version": 3
   },
   "file_extension": ".py",
   "mimetype": "text/x-python",
   "name": "python",
   "nbconvert_exporter": "python",
   "pygments_lexer": "ipython3",
   "version": "3.8.6"
  }
 },
 "nbformat": 4,
 "nbformat_minor": 5
}
