{
 "cells": [
  {
   "cell_type": "markdown",
   "id": "ce9b954f",
   "metadata": {},
   "source": [
    "# Manipulate a Series\n",
    "\n",
    "DO NOT CHANGE THE VARIABLE NAMES\n",
    "\n",
    "Given a list representing a few planets\n",
    "planets = ['Earth', 'Saturn', 'Venus', 'Mars', 'Jupiter']\n",
    "\n",
    "Given another list representing the distance of each of these planets from the Sun The distance from the Sun is in units\n",
    "of 10^6 km\n",
    "\n",
    "distance_from_sun = [149.6, 1433.5, 108.2, 227.9, 778.6]\n",
    "\n",
    "\n",
    "### TO DO: \n",
    "Create a Pandas Series \"dist_planets\" using the lists above, representing the distance of the planet from the Sun.\n",
    "Use the `distance_from_sun` as your data, and `planets` as your index.\n",
    "\n",
    "dist_planets = \n",
    "\n",
    "\n",
    "### TO DO: \n",
    "Calculate the time (minutes) it takes light from the Sun to reach each planet. \n",
    "You can do this by dividing each planet's distance from the Sun by the speed of light.\n",
    "Use the speed of light, c = 18, since light travels 18 x 10^6 km/minute.\n",
    "\n",
    "time_light =  \n",
    "\n",
    "\n",
    "### TO DO:\n",
    "Use Boolean indexing to select only those planets for which sunlight takes less than 40 minutes to reach them.\n",
    "\n",
    "We'll check your work by printing out these close planets.\n",
    "\n",
    "close_planets = \n",
    "\n",
    "\n",
    "```\n",
    "The correct answer is\n",
    "Earth     8.311111\n",
    "Venus     6.011111\n",
    "Mars     12.661111\n",
    "dtype: float64\n",
    "```"
   ]
  },
  {
   "cell_type": "code",
   "execution_count": 35,
   "id": "a6b6d3ad",
   "metadata": {},
   "outputs": [],
   "source": [
    "import pandas as pd\n",
    "\n",
    "# DO NOT CHANGE THE VARIABLE NAMES\n",
    "\n",
    "# Given a list representing a few planets\n",
    "planets = ['Earth', 'Saturn', 'Venus', 'Mars', 'Jupiter']\n",
    "\n",
    "# Given another list representing the distance of each of these planets from the Sun\n",
    "# The distance from the Sun is in units of 10^6 km\n",
    "distance_from_sun = [149.6, 1433.5, 108.2, 227.9, 778.6]\n",
    "\n",
    "\n",
    "# TO DO: Create a Pandas Series \"dist_planets\" using the lists above, representing the distance of the planet from the Sun.\n",
    "# Use the `distance_from_sun` as your data, and `planets` as your index.\n",
    "dist_planets = pd.Series(data=distance_from_sun, index=planets)\n",
    "\n",
    "\n",
    "# TO DO: Calculate the time (minutes) it takes light from the Sun to reach each planet. \n",
    "# You can do this by dividing each planet's distance from the Sun by the speed of light.\n",
    "# Use the speed of light, c = 18, since light travels 18 x 10^6 km/minute.\n",
    "time_light = dist_planets / 18\n",
    "\n",
    "\n",
    "# TO DO: Use Boolean indexing to select only those planets for which sunlight takes less\n",
    "# than 40 minutes to reach them.\n",
    "# We'll check your work by printing out these close planets.\n",
    "close_planets = time_light[time_light < 40]\n",
    "\n"
   ]
  },
  {
   "cell_type": "code",
   "execution_count": 36,
   "id": "c2dc727b",
   "metadata": {},
   "outputs": [
    {
     "data": {
      "text/plain": [
       "Earth       149.6\n",
       "Saturn     1433.5\n",
       "Venus       108.2\n",
       "Mars        227.9\n",
       "Jupiter     778.6\n",
       "dtype: float64"
      ]
     },
     "execution_count": 36,
     "metadata": {},
     "output_type": "execute_result"
    }
   ],
   "source": [
    "dist_planets"
   ]
  },
  {
   "cell_type": "code",
   "execution_count": 37,
   "id": "9774da86",
   "metadata": {},
   "outputs": [
    {
     "data": {
      "text/plain": [
       "Earth       8.311111\n",
       "Saturn     79.638889\n",
       "Venus       6.011111\n",
       "Mars       12.661111\n",
       "Jupiter    43.255556\n",
       "dtype: float64"
      ]
     },
     "execution_count": 37,
     "metadata": {},
     "output_type": "execute_result"
    }
   ],
   "source": [
    "time_light"
   ]
  },
  {
   "cell_type": "code",
   "execution_count": 38,
   "id": "fd571870",
   "metadata": {},
   "outputs": [
    {
     "data": {
      "text/plain": [
       "Earth     8.311111\n",
       "Venus     6.011111\n",
       "Mars     12.661111\n",
       "dtype: float64"
      ]
     },
     "execution_count": 38,
     "metadata": {},
     "output_type": "execute_result"
    }
   ],
   "source": [
    "close_planets"
   ]
  },
  {
   "cell_type": "code",
   "execution_count": null,
   "id": "279cb391",
   "metadata": {},
   "outputs": [],
   "source": []
  }
 ],
 "metadata": {
  "kernelspec": {
   "display_name": "Python 3 (ipykernel)",
   "language": "python",
   "name": "python3"
  },
  "language_info": {
   "codemirror_mode": {
    "name": "ipython",
    "version": 3
   },
   "file_extension": ".py",
   "mimetype": "text/x-python",
   "name": "python",
   "nbconvert_exporter": "python",
   "pygments_lexer": "ipython3",
   "version": "3.8.6"
  }
 },
 "nbformat": 4,
 "nbformat_minor": 5
}
