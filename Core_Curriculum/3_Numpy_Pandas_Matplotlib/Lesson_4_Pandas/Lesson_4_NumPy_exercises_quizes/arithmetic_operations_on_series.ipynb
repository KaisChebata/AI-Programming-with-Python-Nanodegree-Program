{
 "cells": [
  {
   "cell_type": "markdown",
   "id": "ad21ab0a",
   "metadata": {},
   "source": [
    "### Arithmetic Ops"
   ]
  },
  {
   "cell_type": "code",
   "execution_count": 9,
   "id": "f350fef4",
   "metadata": {},
   "outputs": [],
   "source": [
    "import numpy as np\n",
    "import pandas as pd"
   ]
  },
  {
   "cell_type": "code",
   "execution_count": 10,
   "id": "5270f6c0",
   "metadata": {},
   "outputs": [],
   "source": [
    "fruits = pd.Series([10, 6, 3], ['apples', 'orange', 'banana'])"
   ]
  },
  {
   "cell_type": "code",
   "execution_count": 11,
   "id": "ddd229f0",
   "metadata": {},
   "outputs": [
    {
     "data": {
      "text/plain": [
       "apples    10\n",
       "orange     6\n",
       "banana     3\n",
       "dtype: int64"
      ]
     },
     "execution_count": 11,
     "metadata": {},
     "output_type": "execute_result"
    }
   ],
   "source": [
    "fruits"
   ]
  },
  {
   "cell_type": "code",
   "execution_count": 12,
   "id": "e1cd7ef5",
   "metadata": {},
   "outputs": [
    {
     "data": {
      "text/plain": [
       "apples    12\n",
       "orange     8\n",
       "banana     5\n",
       "dtype: int64"
      ]
     },
     "execution_count": 12,
     "metadata": {},
     "output_type": "execute_result"
    }
   ],
   "source": [
    "fruits + 2"
   ]
  },
  {
   "cell_type": "code",
   "execution_count": 13,
   "id": "354f4bbe",
   "metadata": {},
   "outputs": [
    {
     "data": {
      "text/plain": [
       "apples    8\n",
       "orange    4\n",
       "banana    1\n",
       "dtype: int64"
      ]
     },
     "execution_count": 13,
     "metadata": {},
     "output_type": "execute_result"
    }
   ],
   "source": [
    "fruits - 2"
   ]
  },
  {
   "cell_type": "code",
   "execution_count": 14,
   "id": "ed7ffe0c",
   "metadata": {},
   "outputs": [
    {
     "data": {
      "text/plain": [
       "apples    20\n",
       "orange    12\n",
       "banana     6\n",
       "dtype: int64"
      ]
     },
     "execution_count": 14,
     "metadata": {},
     "output_type": "execute_result"
    }
   ],
   "source": [
    "fruits * 2"
   ]
  },
  {
   "cell_type": "code",
   "execution_count": 15,
   "id": "70e08fdc",
   "metadata": {},
   "outputs": [
    {
     "data": {
      "text/plain": [
       "apples    5.0\n",
       "orange    3.0\n",
       "banana    1.5\n",
       "dtype: float64"
      ]
     },
     "execution_count": 15,
     "metadata": {},
     "output_type": "execute_result"
    }
   ],
   "source": [
    "fruits / 2"
   ]
  },
  {
   "cell_type": "code",
   "execution_count": 16,
   "id": "20d0771d",
   "metadata": {},
   "outputs": [
    {
     "data": {
      "text/plain": [
       "apples    3.162278\n",
       "orange    2.449490\n",
       "banana    1.732051\n",
       "dtype: float64"
      ]
     },
     "execution_count": 16,
     "metadata": {},
     "output_type": "execute_result"
    }
   ],
   "source": [
    "np.sqrt(fruits)"
   ]
  },
  {
   "cell_type": "code",
   "execution_count": 17,
   "id": "ad760927",
   "metadata": {},
   "outputs": [
    {
     "data": {
      "text/plain": [
       "apples    22026.465795\n",
       "orange      403.428793\n",
       "banana       20.085537\n",
       "dtype: float64"
      ]
     },
     "execution_count": 17,
     "metadata": {},
     "output_type": "execute_result"
    }
   ],
   "source": [
    "np.exp(fruits)"
   ]
  },
  {
   "cell_type": "code",
   "execution_count": 18,
   "id": "b43ed610",
   "metadata": {},
   "outputs": [
    {
     "data": {
      "text/plain": [
       "apples    100\n",
       "orange     36\n",
       "banana      9\n",
       "dtype: int64"
      ]
     },
     "execution_count": 18,
     "metadata": {},
     "output_type": "execute_result"
    }
   ],
   "source": [
    "np.power(fruits, 2)"
   ]
  },
  {
   "cell_type": "code",
   "execution_count": 20,
   "id": "98180bbd",
   "metadata": {},
   "outputs": [
    {
     "data": {
      "text/plain": [
       "5"
      ]
     },
     "execution_count": 20,
     "metadata": {},
     "output_type": "execute_result"
    }
   ],
   "source": [
    "fruits['banana'] + 2"
   ]
  },
  {
   "cell_type": "code",
   "execution_count": 21,
   "id": "e6068010",
   "metadata": {},
   "outputs": [
    {
     "data": {
      "text/plain": [
       "apples    10\n",
       "orange     6\n",
       "banana     3\n",
       "dtype: int64"
      ]
     },
     "execution_count": 21,
     "metadata": {},
     "output_type": "execute_result"
    }
   ],
   "source": [
    "fruits"
   ]
  },
  {
   "cell_type": "code",
   "execution_count": 27,
   "id": "6f4e4b74",
   "metadata": {},
   "outputs": [
    {
     "data": {
      "text/plain": [
       "8"
      ]
     },
     "execution_count": 27,
     "metadata": {},
     "output_type": "execute_result"
    }
   ],
   "source": [
    "fruits.iloc[0] - 2"
   ]
  },
  {
   "cell_type": "code",
   "execution_count": 28,
   "id": "1d7dd76f",
   "metadata": {},
   "outputs": [
    {
     "data": {
      "text/plain": [
       "apples    20\n",
       "orange    12\n",
       "dtype: int64"
      ]
     },
     "execution_count": 28,
     "metadata": {},
     "output_type": "execute_result"
    }
   ],
   "source": [
    "fruits[['apples', 'orange']] * 2"
   ]
  },
  {
   "cell_type": "code",
   "execution_count": 29,
   "id": "8cebc3b4",
   "metadata": {},
   "outputs": [
    {
     "data": {
      "text/plain": [
       "apples    5.0\n",
       "orange    3.0\n",
       "dtype: float64"
      ]
     },
     "execution_count": 29,
     "metadata": {},
     "output_type": "execute_result"
    }
   ],
   "source": [
    "fruits[['apples', 'orange']] / 2"
   ]
  },
  {
   "cell_type": "code",
   "execution_count": 30,
   "id": "dcebd63a",
   "metadata": {},
   "outputs": [
    {
     "data": {
      "text/plain": [
       "eggs       30\n",
       "apples      6\n",
       "milk      Yes\n",
       "bread      No\n",
       "dtype: object"
      ]
     },
     "execution_count": 30,
     "metadata": {},
     "output_type": "execute_result"
    }
   ],
   "source": [
    "groceries = pd.Series([30, 6, 'Yes', 'No'], ['eggs', 'apples', 'milk', 'bread'])\n",
    "groceries"
   ]
  },
  {
   "cell_type": "code",
   "execution_count": 33,
   "id": "5a86a8aa",
   "metadata": {},
   "outputs": [
    {
     "data": {
      "text/plain": [
       "eggs          60\n",
       "apples        12\n",
       "milk      YesYes\n",
       "bread       NoNo\n",
       "dtype: object"
      ]
     },
     "execution_count": 33,
     "metadata": {},
     "output_type": "execute_result"
    }
   ],
   "source": [
    "groceries * 2"
   ]
  },
  {
   "cell_type": "code",
   "execution_count": null,
   "id": "48872e7b",
   "metadata": {},
   "outputs": [],
   "source": []
  }
 ],
 "metadata": {
  "kernelspec": {
   "display_name": "Python 3 (ipykernel)",
   "language": "python",
   "name": "python3"
  },
  "language_info": {
   "codemirror_mode": {
    "name": "ipython",
    "version": 3
   },
   "file_extension": ".py",
   "mimetype": "text/x-python",
   "name": "python",
   "nbconvert_exporter": "python",
   "pygments_lexer": "ipython3",
   "version": "3.8.6"
  }
 },
 "nbformat": 4,
 "nbformat_minor": 5
}
