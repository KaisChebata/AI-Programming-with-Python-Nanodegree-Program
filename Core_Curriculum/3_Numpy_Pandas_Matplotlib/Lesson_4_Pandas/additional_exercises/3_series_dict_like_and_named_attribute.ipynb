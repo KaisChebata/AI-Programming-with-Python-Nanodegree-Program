{
 "cells": [
  {
   "cell_type": "code",
   "execution_count": 1,
   "id": "9023628c",
   "metadata": {},
   "outputs": [],
   "source": [
    "import numpy as np\n",
    "import pandas as pd"
   ]
  },
  {
   "cell_type": "code",
   "execution_count": 2,
   "id": "212b1c9e",
   "metadata": {},
   "outputs": [
    {
     "data": {
      "text/plain": [
       "a    0.852605\n",
       "b    0.053894\n",
       "c    0.813628\n",
       "d    0.047755\n",
       "e    0.701028\n",
       "dtype: float64"
      ]
     },
     "execution_count": 2,
     "metadata": {},
     "output_type": "execute_result"
    }
   ],
   "source": [
    "s = pd.Series(np.random.rand(5), index=[\"a\", \"b\", \"c\", \"d\", \"e\"])\n",
    "s"
   ]
  },
  {
   "cell_type": "markdown",
   "id": "a142cb5c",
   "metadata": {},
   "source": [
    "###  get and set values by index label"
   ]
  },
  {
   "cell_type": "code",
   "execution_count": 3,
   "id": "a203a125",
   "metadata": {},
   "outputs": [
    {
     "data": {
      "text/plain": [
       "0.8526050212215925"
      ]
     },
     "execution_count": 3,
     "metadata": {},
     "output_type": "execute_result"
    }
   ],
   "source": [
    "s['a']"
   ]
  },
  {
   "cell_type": "code",
   "execution_count": 11,
   "id": "f3f63a74",
   "metadata": {},
   "outputs": [],
   "source": [
    "s['e'] = 12.0"
   ]
  },
  {
   "cell_type": "code",
   "execution_count": 12,
   "id": "09c16dc5",
   "metadata": {},
   "outputs": [
    {
     "data": {
      "text/plain": [
       "a     0.852605\n",
       "b     0.053894\n",
       "c     0.813628\n",
       "d     0.047755\n",
       "e    12.000000\n",
       "dtype: float64"
      ]
     },
     "execution_count": 12,
     "metadata": {},
     "output_type": "execute_result"
    }
   ],
   "source": [
    "s"
   ]
  },
  {
   "cell_type": "code",
   "execution_count": 5,
   "id": "7998bd90",
   "metadata": {},
   "outputs": [
    {
     "data": {
      "text/plain": [
       "True"
      ]
     },
     "execution_count": 5,
     "metadata": {},
     "output_type": "execute_result"
    }
   ],
   "source": [
    "'e' in s"
   ]
  },
  {
   "cell_type": "code",
   "execution_count": 7,
   "id": "ca3be1df",
   "metadata": {},
   "outputs": [
    {
     "data": {
      "text/plain": [
       "False"
      ]
     },
     "execution_count": 7,
     "metadata": {},
     "output_type": "execute_result"
    }
   ],
   "source": [
    "'f' in s"
   ]
  },
  {
   "cell_type": "code",
   "execution_count": 9,
   "id": "0e16ce54",
   "metadata": {},
   "outputs": [],
   "source": [
    "s.get('f')"
   ]
  },
  {
   "cell_type": "code",
   "execution_count": 10,
   "id": "c9be6e5d",
   "metadata": {},
   "outputs": [
    {
     "data": {
      "text/plain": [
       "nan"
      ]
     },
     "execution_count": 10,
     "metadata": {},
     "output_type": "execute_result"
    }
   ],
   "source": [
    "s.get('f', np.nan)"
   ]
  },
  {
   "cell_type": "markdown",
   "id": "468446a4",
   "metadata": {},
   "source": [
    "### Vectorized operations and label alignment with Series"
   ]
  },
  {
   "cell_type": "code",
   "execution_count": 13,
   "id": "c787378a",
   "metadata": {},
   "outputs": [
    {
     "data": {
      "text/plain": [
       "a     1.705210\n",
       "b     0.107788\n",
       "c     1.627256\n",
       "d     0.095510\n",
       "e    24.000000\n",
       "dtype: float64"
      ]
     },
     "execution_count": 13,
     "metadata": {},
     "output_type": "execute_result"
    }
   ],
   "source": [
    "s + s"
   ]
  },
  {
   "cell_type": "code",
   "execution_count": 14,
   "id": "81ab7405",
   "metadata": {},
   "outputs": [
    {
     "data": {
      "text/plain": [
       "a     1.705210\n",
       "b     0.107788\n",
       "c     1.627256\n",
       "d     0.095510\n",
       "e    24.000000\n",
       "dtype: float64"
      ]
     },
     "execution_count": 14,
     "metadata": {},
     "output_type": "execute_result"
    }
   ],
   "source": [
    "s * 2"
   ]
  },
  {
   "cell_type": "code",
   "execution_count": 15,
   "id": "dab8bbde",
   "metadata": {},
   "outputs": [
    {
     "data": {
      "text/plain": [
       "a         2.345750\n",
       "b         1.055372\n",
       "c         2.256078\n",
       "d         1.048914\n",
       "e    162754.791419\n",
       "dtype: float64"
      ]
     },
     "execution_count": 15,
     "metadata": {},
     "output_type": "execute_result"
    }
   ],
   "source": [
    "np.exp(s)"
   ]
  },
  {
   "cell_type": "code",
   "execution_count": 16,
   "id": "3ea3708f",
   "metadata": {},
   "outputs": [
    {
     "data": {
      "text/plain": [
       "b     0.053894\n",
       "c     0.813628\n",
       "d     0.047755\n",
       "e    12.000000\n",
       "dtype: float64"
      ]
     },
     "execution_count": 16,
     "metadata": {},
     "output_type": "execute_result"
    }
   ],
   "source": [
    "s[1:]"
   ]
  },
  {
   "cell_type": "code",
   "execution_count": 17,
   "id": "01b8ebe9",
   "metadata": {},
   "outputs": [
    {
     "data": {
      "text/plain": [
       "a    0.852605\n",
       "b    0.053894\n",
       "c    0.813628\n",
       "d    0.047755\n",
       "dtype: float64"
      ]
     },
     "execution_count": 17,
     "metadata": {},
     "output_type": "execute_result"
    }
   ],
   "source": [
    "s[:-1]"
   ]
  },
  {
   "cell_type": "code",
   "execution_count": 18,
   "id": "6781af7b",
   "metadata": {},
   "outputs": [
    {
     "data": {
      "text/plain": [
       "a         NaN\n",
       "b    0.107788\n",
       "c    1.627256\n",
       "d    0.095510\n",
       "e         NaN\n",
       "dtype: float64"
      ]
     },
     "execution_count": 18,
     "metadata": {},
     "output_type": "execute_result"
    }
   ],
   "source": [
    "s[1:] + s[:-1]"
   ]
  },
  {
   "cell_type": "markdown",
   "id": "0aa8d7a8",
   "metadata": {},
   "source": [
    "### Name attribute"
   ]
  },
  {
   "cell_type": "code",
   "execution_count": 23,
   "id": "35c47577",
   "metadata": {},
   "outputs": [
    {
     "data": {
      "text/plain": [
       "0    0.412295\n",
       "1    0.138471\n",
       "2    0.338222\n",
       "3    0.052586\n",
       "4    0.072989\n",
       "Name: test, dtype: float64"
      ]
     },
     "execution_count": 23,
     "metadata": {},
     "output_type": "execute_result"
    }
   ],
   "source": [
    "ser1 = pd.Series(np.random.rand(5), name='test')\n",
    "ser1"
   ]
  },
  {
   "cell_type": "code",
   "execution_count": 24,
   "id": "8475215e",
   "metadata": {},
   "outputs": [
    {
     "data": {
      "text/plain": [
       "'test'"
      ]
     },
     "execution_count": 24,
     "metadata": {},
     "output_type": "execute_result"
    }
   ],
   "source": [
    "ser1.name"
   ]
  },
  {
   "cell_type": "code",
   "execution_count": 25,
   "id": "737a8be1",
   "metadata": {},
   "outputs": [],
   "source": [
    "ser2 = ser1.rename('Sample Serie')"
   ]
  },
  {
   "cell_type": "code",
   "execution_count": 28,
   "id": "32476161",
   "metadata": {},
   "outputs": [
    {
     "data": {
      "text/plain": [
       "0    0.412295\n",
       "1    0.138471\n",
       "2    0.338222\n",
       "3    0.052586\n",
       "4    0.072989\n",
       "Name: test, dtype: float64"
      ]
     },
     "execution_count": 28,
     "metadata": {},
     "output_type": "execute_result"
    }
   ],
   "source": [
    "ser1"
   ]
  },
  {
   "cell_type": "code",
   "execution_count": 29,
   "id": "dda3180e",
   "metadata": {},
   "outputs": [
    {
     "data": {
      "text/plain": [
       "0    0.412295\n",
       "1    0.138471\n",
       "2    0.338222\n",
       "3    0.052586\n",
       "4    0.072989\n",
       "Name: Sample Serie, dtype: float64"
      ]
     },
     "execution_count": 29,
     "metadata": {},
     "output_type": "execute_result"
    }
   ],
   "source": [
    "ser2"
   ]
  },
  {
   "cell_type": "code",
   "execution_count": 30,
   "id": "7a51d95a",
   "metadata": {},
   "outputs": [
    {
     "data": {
      "text/plain": [
       "0    True\n",
       "1    True\n",
       "2    True\n",
       "3    True\n",
       "4    True\n",
       "dtype: bool"
      ]
     },
     "execution_count": 30,
     "metadata": {},
     "output_type": "execute_result"
    }
   ],
   "source": [
    "ser1 == ser2"
   ]
  },
  {
   "cell_type": "code",
   "execution_count": 31,
   "id": "fd81e47e",
   "metadata": {},
   "outputs": [
    {
     "data": {
      "text/plain": [
       "False"
      ]
     },
     "execution_count": 31,
     "metadata": {},
     "output_type": "execute_result"
    }
   ],
   "source": [
    "ser1 is ser2"
   ]
  },
  {
   "cell_type": "code",
   "execution_count": null,
   "id": "603de2e6",
   "metadata": {},
   "outputs": [],
   "source": []
  }
 ],
 "metadata": {
  "kernelspec": {
   "display_name": "Python 3 (ipykernel)",
   "language": "python",
   "name": "python3"
  },
  "language_info": {
   "codemirror_mode": {
    "name": "ipython",
    "version": 3
   },
   "file_extension": ".py",
   "mimetype": "text/x-python",
   "name": "python",
   "nbconvert_exporter": "python",
   "pygments_lexer": "ipython3",
   "version": "3.8.6"
  }
 },
 "nbformat": 4,
 "nbformat_minor": 5
}
