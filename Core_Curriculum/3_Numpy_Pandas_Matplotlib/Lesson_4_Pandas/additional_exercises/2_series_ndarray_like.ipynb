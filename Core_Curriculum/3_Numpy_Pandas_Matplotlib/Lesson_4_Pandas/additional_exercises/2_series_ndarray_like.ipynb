{
 "cells": [
  {
   "cell_type": "markdown",
   "id": "49a960b5",
   "metadata": {},
   "source": [
    "### Series is ndarray-like"
   ]
  },
  {
   "cell_type": "code",
   "execution_count": 1,
   "id": "7901d58b",
   "metadata": {},
   "outputs": [],
   "source": [
    "import numpy as np\n",
    "import pandas as pd"
   ]
  },
  {
   "cell_type": "code",
   "execution_count": 3,
   "id": "6dc24484",
   "metadata": {},
   "outputs": [
    {
     "data": {
      "text/plain": [
       "a    0.064913\n",
       "b    0.538521\n",
       "c    0.889679\n",
       "d    0.682595\n",
       "e    0.535797\n",
       "dtype: float64"
      ]
     },
     "execution_count": 3,
     "metadata": {},
     "output_type": "execute_result"
    }
   ],
   "source": [
    "s = pd.Series(np.random.rand(5), index=[\"a\", \"b\", \"c\", \"d\", \"e\"])\n",
    "s"
   ]
  },
  {
   "cell_type": "code",
   "execution_count": 4,
   "id": "9ed6c34e",
   "metadata": {},
   "outputs": [
    {
     "data": {
      "text/plain": [
       "0.0649125423780087"
      ]
     },
     "execution_count": 4,
     "metadata": {},
     "output_type": "execute_result"
    }
   ],
   "source": [
    "s[0]"
   ]
  },
  {
   "cell_type": "code",
   "execution_count": 5,
   "id": "d1083a72",
   "metadata": {},
   "outputs": [
    {
     "data": {
      "text/plain": [
       "a    0.064913\n",
       "b    0.538521\n",
       "c    0.889679\n",
       "dtype: float64"
      ]
     },
     "execution_count": 5,
     "metadata": {},
     "output_type": "execute_result"
    }
   ],
   "source": [
    "s[:3]"
   ]
  },
  {
   "cell_type": "code",
   "execution_count": 8,
   "id": "d3930a78",
   "metadata": {},
   "outputs": [
    {
     "data": {
      "text/plain": [
       "e    0.535797\n",
       "d    0.682595\n",
       "b    0.538521\n",
       "dtype: float64"
      ]
     },
     "execution_count": 8,
     "metadata": {},
     "output_type": "execute_result"
    }
   ],
   "source": [
    "s[[4, 3, 1]]"
   ]
  },
  {
   "cell_type": "code",
   "execution_count": 11,
   "id": "797c4151",
   "metadata": {},
   "outputs": [
    {
     "data": {
      "text/plain": [
       "c    0.889679\n",
       "d    0.682595\n",
       "dtype: float64"
      ]
     },
     "execution_count": 11,
     "metadata": {},
     "output_type": "execute_result"
    }
   ],
   "source": [
    "s[s > s.median()]"
   ]
  },
  {
   "cell_type": "code",
   "execution_count": 12,
   "id": "178829e0",
   "metadata": {},
   "outputs": [
    {
     "data": {
      "text/plain": [
       "a    1.067066\n",
       "b    1.713470\n",
       "c    2.434347\n",
       "d    1.979006\n",
       "e    1.708810\n",
       "dtype: float64"
      ]
     },
     "execution_count": 12,
     "metadata": {},
     "output_type": "execute_result"
    }
   ],
   "source": [
    "np.exp(s)"
   ]
  },
  {
   "cell_type": "code",
   "execution_count": 13,
   "id": "d88a0902",
   "metadata": {},
   "outputs": [
    {
     "data": {
      "text/plain": [
       "dtype('float64')"
      ]
     },
     "execution_count": 13,
     "metadata": {},
     "output_type": "execute_result"
    }
   ],
   "source": [
    "s.dtype"
   ]
  },
  {
   "cell_type": "code",
   "execution_count": 14,
   "id": "cc4306f7",
   "metadata": {},
   "outputs": [
    {
     "data": {
      "text/plain": [
       "<PandasArray>\n",
       "[0.0649125423780087, 0.5385205709850134, 0.8896786464289272,\n",
       " 0.6825948957547604, 0.5357970780880111]\n",
       "Length: 5, dtype: float64"
      ]
     },
     "execution_count": 14,
     "metadata": {},
     "output_type": "execute_result"
    }
   ],
   "source": [
    "s.array"
   ]
  },
  {
   "cell_type": "code",
   "execution_count": 17,
   "id": "cfbe7c5d",
   "metadata": {},
   "outputs": [
    {
     "data": {
      "text/plain": [
       "<PandasArray>\n",
       "[0.0649125423780087, 0.5385205709850134, 0.8896786464289272]\n",
       "Length: 3, dtype: float64"
      ]
     },
     "execution_count": 17,
     "metadata": {},
     "output_type": "execute_result"
    }
   ],
   "source": [
    "s.array[0:3]"
   ]
  },
  {
   "cell_type": "code",
   "execution_count": 23,
   "id": "c7ff619d",
   "metadata": {},
   "outputs": [
    {
     "data": {
      "text/plain": [
       "array([0.06491254, 0.53852057, 0.88967865, 0.6825949 , 0.53579708])"
      ]
     },
     "execution_count": 23,
     "metadata": {},
     "output_type": "execute_result"
    }
   ],
   "source": [
    "# actual ndarray\n",
    "s_np = s.to_numpy()\n",
    "s_np"
   ]
  },
  {
   "cell_type": "code",
   "execution_count": 20,
   "id": "6a25e404",
   "metadata": {},
   "outputs": [
    {
     "data": {
      "text/plain": [
       "0.0649125423780087"
      ]
     },
     "execution_count": 20,
     "metadata": {},
     "output_type": "execute_result"
    }
   ],
   "source": [
    "s_np[0]"
   ]
  },
  {
   "cell_type": "code",
   "execution_count": 21,
   "id": "823e5bda",
   "metadata": {},
   "outputs": [
    {
     "data": {
      "text/plain": [
       "array([0.06491254, 0.53852057, 0.88967865])"
      ]
     },
     "execution_count": 21,
     "metadata": {},
     "output_type": "execute_result"
    }
   ],
   "source": [
    "s_np[0:3]"
   ]
  },
  {
   "cell_type": "code",
   "execution_count": 22,
   "id": "53146b34",
   "metadata": {},
   "outputs": [
    {
     "data": {
      "text/plain": [
       "array([0.06491254, 0.88967865, 0.53579708])"
      ]
     },
     "execution_count": 22,
     "metadata": {},
     "output_type": "execute_result"
    }
   ],
   "source": [
    "s_np[[0, 2, 4]]"
   ]
  },
  {
   "cell_type": "code",
   "execution_count": null,
   "id": "d3a857d8",
   "metadata": {},
   "outputs": [],
   "source": []
  }
 ],
 "metadata": {
  "kernelspec": {
   "display_name": "Python 3 (ipykernel)",
   "language": "python",
   "name": "python3"
  },
  "language_info": {
   "codemirror_mode": {
    "name": "ipython",
    "version": 3
   },
   "file_extension": ".py",
   "mimetype": "text/x-python",
   "name": "python",
   "nbconvert_exporter": "python",
   "pygments_lexer": "ipython3",
   "version": "3.8.6"
  }
 },
 "nbformat": 4,
 "nbformat_minor": 5
}
