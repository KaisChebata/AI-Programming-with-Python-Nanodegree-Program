{
 "cells": [
  {
   "cell_type": "markdown",
   "id": "a590592c",
   "metadata": {},
   "source": [
    "## Accessing/Changing elements, rows, cols"
   ]
  },
  {
   "cell_type": "code",
   "execution_count": 36,
   "id": "aae1b130",
   "metadata": {},
   "outputs": [],
   "source": [
    "import numpy as np"
   ]
  },
  {
   "cell_type": "code",
   "execution_count": 16,
   "id": "662ef9d1",
   "metadata": {},
   "outputs": [
    {
     "name": "stdout",
     "output_type": "stream",
     "text": [
      "[[ 1  2  3  4  5  6  7]\n",
      " [ 8  9 10 11 12 13 14]]\n"
     ]
    }
   ],
   "source": [
    "a = np.array([[1, 2, 3, 4, 5, 6, 7], [8, 9, 10, 11, 12, 13, 14]])\n",
    "print(a)"
   ]
  },
  {
   "cell_type": "markdown",
   "id": "8be06db5",
   "metadata": {},
   "source": [
    "### Get specific elements"
   ]
  },
  {
   "cell_type": "code",
   "execution_count": 17,
   "id": "ae49a5db",
   "metadata": {},
   "outputs": [
    {
     "data": {
      "text/plain": [
       "13"
      ]
     },
     "execution_count": 17,
     "metadata": {},
     "output_type": "execute_result"
    }
   ],
   "source": [
    "# Get specific element [r, c] ex. 13 element at second row\n",
    "a[1, 5]"
   ]
  },
  {
   "cell_type": "markdown",
   "id": "1f4e33a5",
   "metadata": {},
   "source": [
    "#### using negative notation"
   ]
  },
  {
   "cell_type": "code",
   "execution_count": 18,
   "id": "4c8b15e6",
   "metadata": {},
   "outputs": [
    {
     "data": {
      "text/plain": [
       "13"
      ]
     },
     "execution_count": 18,
     "metadata": {},
     "output_type": "execute_result"
    }
   ],
   "source": [
    "# Get specific element [r, c] ex. 13 element at second row\n",
    "a[1, -2]"
   ]
  },
  {
   "cell_type": "markdown",
   "id": "25ba5a36",
   "metadata": {},
   "source": [
    "### Get specific row or col"
   ]
  },
  {
   "cell_type": "code",
   "execution_count": 19,
   "id": "19307dc5",
   "metadata": {},
   "outputs": [
    {
     "data": {
      "text/plain": [
       "array([1, 2, 3, 4, 5, 6, 7])"
      ]
     },
     "execution_count": 19,
     "metadata": {},
     "output_type": "execute_result"
    }
   ],
   "source": [
    "# Get specific row\n",
    "a[0, :]"
   ]
  },
  {
   "cell_type": "code",
   "execution_count": 20,
   "id": "d1972be4",
   "metadata": {},
   "outputs": [
    {
     "data": {
      "text/plain": [
       "array([ 3, 10])"
      ]
     },
     "execution_count": 20,
     "metadata": {},
     "output_type": "execute_result"
    }
   ],
   "source": [
    "# Get specific col\n",
    "a[:, 2]"
   ]
  },
  {
   "cell_type": "markdown",
   "id": "c28eccd4",
   "metadata": {},
   "source": [
    "### More staff with accessing and selecting [strtidx:endidx:step]"
   ]
  },
  {
   "cell_type": "code",
   "execution_count": 21,
   "id": "f47b4812",
   "metadata": {},
   "outputs": [
    {
     "data": {
      "text/plain": [
       "array([2, 4, 6])"
      ]
     },
     "execution_count": 21,
     "metadata": {},
     "output_type": "execute_result"
    }
   ],
   "source": [
    "# selecting number in first row between 2 and 6\n",
    "a[0, 1:6:2]"
   ]
  },
  {
   "cell_type": "code",
   "execution_count": 22,
   "id": "84820d7d",
   "metadata": {},
   "outputs": [
    {
     "data": {
      "text/plain": [
       "array([2, 4, 6])"
      ]
     },
     "execution_count": 22,
     "metadata": {},
     "output_type": "execute_result"
    }
   ],
   "source": [
    "# selecting number in first row between 2 and 6\n",
    "a[0, 1:-1:2]"
   ]
  },
  {
   "cell_type": "markdown",
   "id": "570cf8ca",
   "metadata": {},
   "source": [
    "### Changing elements"
   ]
  },
  {
   "cell_type": "code",
   "execution_count": 23,
   "id": "ae2ee9f6",
   "metadata": {},
   "outputs": [
    {
     "name": "stdout",
     "output_type": "stream",
     "text": [
      "[[ 1  2  3  4  5  6  7]\n",
      " [ 8  9 10 11 12 20 14]]\n"
     ]
    }
   ],
   "source": [
    "a[1, 5] = 20\n",
    "print(a)"
   ]
  },
  {
   "cell_type": "code",
   "execution_count": 24,
   "id": "114f7fb0",
   "metadata": {},
   "outputs": [
    {
     "name": "stdout",
     "output_type": "stream",
     "text": [
      "array before changing:\n",
      "[[ 1  2  3  4  5  6  7]\n",
      " [ 8  9 10 11 12 20 14]]\n",
      "\n",
      "array after changing:\n",
      "[[ 1  2  5  4  5  6  7]\n",
      " [ 8  9  5 11 12 20 14]]\n"
     ]
    }
   ],
   "source": [
    "print(f'array before changing:\\n{a}\\n')\n",
    "a[:, 2] = 5\n",
    "print(f'array after changing:\\n{a}')"
   ]
  },
  {
   "cell_type": "markdown",
   "id": "767300ff",
   "metadata": {},
   "source": [
    "### Defining 3D array"
   ]
  },
  {
   "cell_type": "code",
   "execution_count": 25,
   "id": "31457fb1",
   "metadata": {},
   "outputs": [],
   "source": [
    "mat = np.zeros((4, 3, 4))"
   ]
  },
  {
   "cell_type": "code",
   "execution_count": 26,
   "id": "a3d41c80",
   "metadata": {},
   "outputs": [
    {
     "data": {
      "text/plain": [
       "array([[[0., 0., 0., 0.],\n",
       "        [0., 0., 0., 0.],\n",
       "        [0., 0., 0., 0.]],\n",
       "\n",
       "       [[0., 0., 0., 0.],\n",
       "        [0., 0., 0., 0.],\n",
       "        [0., 0., 0., 0.]],\n",
       "\n",
       "       [[0., 0., 0., 0.],\n",
       "        [0., 0., 0., 0.],\n",
       "        [0., 0., 0., 0.]],\n",
       "\n",
       "       [[0., 0., 0., 0.],\n",
       "        [0., 0., 0., 0.],\n",
       "        [0., 0., 0., 0.]]])"
      ]
     },
     "execution_count": 26,
     "metadata": {},
     "output_type": "execute_result"
    }
   ],
   "source": [
    "mat"
   ]
  },
  {
   "cell_type": "code",
   "execution_count": 92,
   "id": "eee573f5",
   "metadata": {},
   "outputs": [],
   "source": [
    "c = np.array([[[1, 2], [3, 4]], [[5, 6], [7, 8]]])"
   ]
  },
  {
   "cell_type": "code",
   "execution_count": 87,
   "id": "152c917a",
   "metadata": {
    "scrolled": true
   },
   "outputs": [
    {
     "name": "stdout",
     "output_type": "stream",
     "text": [
      "[[[ 1  2]\n",
      "  [ 3  4]]\n",
      "\n",
      " [[ 5  6]\n",
      "  [ 7  8]]\n",
      "\n",
      " [[ 9 10]\n",
      "  [11 12]]]\n"
     ]
    }
   ],
   "source": [
    "print(c)"
   ]
  },
  {
   "cell_type": "code",
   "execution_count": 42,
   "id": "b916bc88",
   "metadata": {},
   "outputs": [
    {
     "data": {
      "text/plain": [
       "3"
      ]
     },
     "execution_count": 42,
     "metadata": {},
     "output_type": "execute_result"
    }
   ],
   "source": [
    "c.ndim"
   ]
  },
  {
   "cell_type": "code",
   "execution_count": 43,
   "id": "12fa7d59",
   "metadata": {},
   "outputs": [
    {
     "data": {
      "text/plain": [
       "(2, 2, 2)"
      ]
     },
     "execution_count": 43,
     "metadata": {},
     "output_type": "execute_result"
    }
   ],
   "source": [
    "c.shape"
   ]
  },
  {
   "cell_type": "markdown",
   "id": "930d8b3c",
   "metadata": {},
   "source": [
    "### Get specific element from 3D-Array\n",
    "\n",
    "#### recomonded way (work outside in)"
   ]
  },
  {
   "cell_type": "code",
   "execution_count": 45,
   "id": "a48f1ec2",
   "metadata": {},
   "outputs": [
    {
     "data": {
      "text/plain": [
       "4"
      ]
     },
     "execution_count": 45,
     "metadata": {},
     "output_type": "execute_result"
    }
   ],
   "source": [
    "# Get 4 from 3D-Array named c (above)\n",
    "c[0, 1, 1] # wich read like this: first array, second row, second col"
   ]
  },
  {
   "cell_type": "code",
   "execution_count": 106,
   "id": "e9a4766e",
   "metadata": {},
   "outputs": [
    {
     "data": {
      "text/plain": [
       "array([[[1, 2],\n",
       "        [3, 4]],\n",
       "\n",
       "       [[5, 6],\n",
       "        [7, 8]]])"
      ]
     },
     "execution_count": 106,
     "metadata": {},
     "output_type": "execute_result"
    }
   ],
   "source": [
    "c[:]"
   ]
  },
  {
   "cell_type": "code",
   "execution_count": 108,
   "id": "68da787c",
   "metadata": {},
   "outputs": [
    {
     "data": {
      "text/plain": [
       "array([4, 8])"
      ]
     },
     "execution_count": 108,
     "metadata": {},
     "output_type": "execute_result"
    }
   ],
   "source": [
    "c[:, 1, 1]"
   ]
  },
  {
   "cell_type": "code",
   "execution_count": 132,
   "id": "2343321a",
   "metadata": {},
   "outputs": [
    {
     "name": "stdout",
     "output_type": "stream",
     "text": [
      "[[2]\n",
      " [6]]\n"
     ]
    }
   ],
   "source": [
    "print(c[:, 0, 1:])"
   ]
  },
  {
   "cell_type": "code",
   "execution_count": 144,
   "id": "27739b29",
   "metadata": {},
   "outputs": [
    {
     "data": {
      "text/plain": [
       "array([5, 6])"
      ]
     },
     "execution_count": 144,
     "metadata": {},
     "output_type": "execute_result"
    }
   ],
   "source": [
    "c[:, 1, 0:]"
   ]
  },
  {
   "cell_type": "code",
   "execution_count": 146,
   "id": "ebebb584",
   "metadata": {},
   "outputs": [
    {
     "data": {
      "text/plain": [
       "array([[3, 4],\n",
       "       [7, 8]])"
      ]
     },
     "execution_count": 146,
     "metadata": {},
     "output_type": "execute_result"
    }
   ],
   "source": [
    "c[:, 1, :]"
   ]
  },
  {
   "cell_type": "code",
   "execution_count": 176,
   "id": "9d8ae11b",
   "metadata": {},
   "outputs": [
    {
     "data": {
      "text/plain": [
       "array([[6, 8]])"
      ]
     },
     "execution_count": 176,
     "metadata": {},
     "output_type": "execute_result"
    }
   ],
   "source": [
    "c[1:, 0:, 1]"
   ]
  },
  {
   "cell_type": "code",
   "execution_count": 196,
   "id": "b9dac424",
   "metadata": {},
   "outputs": [
    {
     "data": {
      "text/plain": [
       "array([[[1],\n",
       "        [3]],\n",
       "\n",
       "       [[5],\n",
       "        [7]]])"
      ]
     },
     "execution_count": 196,
     "metadata": {},
     "output_type": "execute_result"
    }
   ],
   "source": [
    "c[:, 0:, 0:1]"
   ]
  },
  {
   "cell_type": "code",
   "execution_count": 208,
   "id": "9eee69f3",
   "metadata": {},
   "outputs": [],
   "source": [
    "c[:, :, 0] = [[0, 0], [0, 0]]"
   ]
  },
  {
   "cell_type": "code",
   "execution_count": 209,
   "id": "3029a05c",
   "metadata": {},
   "outputs": [
    {
     "data": {
      "text/plain": [
       "array([[[0, 2],\n",
       "        [0, 4]],\n",
       "\n",
       "       [[0, 6],\n",
       "        [0, 8]]])"
      ]
     },
     "execution_count": 209,
     "metadata": {},
     "output_type": "execute_result"
    }
   ],
   "source": [
    "c"
   ]
  },
  {
   "cell_type": "code",
   "execution_count": 211,
   "id": "bd59b011",
   "metadata": {},
   "outputs": [
    {
     "data": {
      "text/plain": [
       "array([[2, 4],\n",
       "       [6, 8]])"
      ]
     },
     "execution_count": 211,
     "metadata": {},
     "output_type": "execute_result"
    }
   ],
   "source": [
    "c[:, :, 1]"
   ]
  },
  {
   "cell_type": "code",
   "execution_count": 218,
   "id": "6f993fe5",
   "metadata": {},
   "outputs": [
    {
     "data": {
      "text/plain": [
       "array([2, 6])"
      ]
     },
     "execution_count": 218,
     "metadata": {},
     "output_type": "execute_result"
    }
   ],
   "source": [
    "c[:, 0, 1]"
   ]
  },
  {
   "cell_type": "code",
   "execution_count": null,
   "id": "42dc23c2",
   "metadata": {},
   "outputs": [],
   "source": []
  }
 ],
 "metadata": {
  "kernelspec": {
   "display_name": "Python 3 (ipykernel)",
   "language": "python",
   "name": "python3"
  },
  "language_info": {
   "codemirror_mode": {
    "name": "ipython",
    "version": 3
   },
   "file_extension": ".py",
   "mimetype": "text/x-python",
   "name": "python",
   "nbconvert_exporter": "python",
   "pygments_lexer": "ipython3",
   "version": "3.8.6"
  }
 },
 "nbformat": 4,
 "nbformat_minor": 5
}
