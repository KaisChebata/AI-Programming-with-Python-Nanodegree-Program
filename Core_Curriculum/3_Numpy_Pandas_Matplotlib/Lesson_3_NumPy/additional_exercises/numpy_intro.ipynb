{
 "cells": [
  {
   "cell_type": "markdown",
   "id": "29576fbc",
   "metadata": {},
   "source": [
    "# NumPy lib Intro"
   ]
  },
  {
   "cell_type": "markdown",
   "id": "5d997208",
   "metadata": {},
   "source": [
    "### load numpy lib"
   ]
  },
  {
   "cell_type": "code",
   "execution_count": 29,
   "id": "cf4f2336",
   "metadata": {},
   "outputs": [],
   "source": [
    "import numpy as np"
   ]
  },
  {
   "cell_type": "markdown",
   "id": "fc0f4afb",
   "metadata": {},
   "source": [
    "### Initialize arrays 1D and 2D"
   ]
  },
  {
   "cell_type": "code",
   "execution_count": 30,
   "id": "508dbab6",
   "metadata": {},
   "outputs": [
    {
     "name": "stdout",
     "output_type": "stream",
     "text": [
      "[1 2 3]\n"
     ]
    },
    {
     "data": {
      "text/plain": [
       "array([1, 2, 3])"
      ]
     },
     "execution_count": 30,
     "metadata": {},
     "output_type": "execute_result"
    }
   ],
   "source": [
    "# initialize 1d array\n",
    "a = np.array([1, 2, 3])\n",
    "print(a)\n",
    "a"
   ]
  },
  {
   "cell_type": "code",
   "execution_count": 31,
   "id": "aa792b4b",
   "metadata": {},
   "outputs": [
    {
     "name": "stdout",
     "output_type": "stream",
     "text": [
      "[[0.2 1.3 9. ]\n",
      " [0.5 7.1 6. ]]\n"
     ]
    },
    {
     "data": {
      "text/plain": [
       "array([[0.2, 1.3, 9. ],\n",
       "       [0.5, 7.1, 6. ]])"
      ]
     },
     "execution_count": 31,
     "metadata": {},
     "output_type": "execute_result"
    }
   ],
   "source": [
    "# initialize 2d array\n",
    "b = np.array([[.2, 1.3, 9.], [.5, 7.1, 6.]])\n",
    "print(b)\n",
    "b"
   ]
  },
  {
   "cell_type": "markdown",
   "id": "fe0cc639",
   "metadata": {},
   "source": [
    "### Dimension, Shape, data type"
   ]
  },
  {
   "cell_type": "code",
   "execution_count": 32,
   "id": "a17df488",
   "metadata": {},
   "outputs": [
    {
     "data": {
      "text/plain": [
       "2"
      ]
     },
     "execution_count": 32,
     "metadata": {},
     "output_type": "execute_result"
    }
   ],
   "source": [
    "# Get Dimension\n",
    "a.ndim # -> 1\n",
    "b.ndim"
   ]
  },
  {
   "cell_type": "code",
   "execution_count": 33,
   "id": "69f3b0b5",
   "metadata": {},
   "outputs": [
    {
     "name": "stdout",
     "output_type": "stream",
     "text": [
      "Shapr of a: (3,)\n",
      "Shapr of b: (2, 3)\n"
     ]
    }
   ],
   "source": [
    "# Get shape of ndarrays\n",
    "print(f'Shapr of a: {a.shape}')\n",
    "print(f'Shapr of b: {b.shape}')"
   ]
  },
  {
   "cell_type": "code",
   "execution_count": 34,
   "id": "8b76c01e",
   "metadata": {},
   "outputs": [],
   "source": [
    "c = np.array([9, 8, 7], dtype='int16')"
   ]
  },
  {
   "cell_type": "code",
   "execution_count": 35,
   "id": "117143c1",
   "metadata": {},
   "outputs": [
    {
     "data": {
      "text/plain": [
       "array([9, 8, 7], dtype=int16)"
      ]
     },
     "execution_count": 35,
     "metadata": {},
     "output_type": "execute_result"
    }
   ],
   "source": [
    "c"
   ]
  },
  {
   "cell_type": "code",
   "execution_count": 36,
   "id": "febafd92",
   "metadata": {},
   "outputs": [
    {
     "data": {
      "text/plain": [
       "dtype('int16')"
      ]
     },
     "execution_count": 36,
     "metadata": {},
     "output_type": "execute_result"
    }
   ],
   "source": [
    "c.dtype"
   ]
  },
  {
   "cell_type": "code",
   "execution_count": 37,
   "id": "bcf8e402",
   "metadata": {},
   "outputs": [
    {
     "data": {
      "text/plain": [
       "dtype('int32')"
      ]
     },
     "execution_count": 37,
     "metadata": {},
     "output_type": "execute_result"
    }
   ],
   "source": [
    "a.dtype"
   ]
  },
  {
   "cell_type": "code",
   "execution_count": 38,
   "id": "a121688b",
   "metadata": {},
   "outputs": [
    {
     "data": {
      "text/plain": [
       "dtype('float64')"
      ]
     },
     "execution_count": 38,
     "metadata": {},
     "output_type": "execute_result"
    }
   ],
   "source": [
    "b.dtype"
   ]
  },
  {
   "cell_type": "markdown",
   "id": "b6cd9a69",
   "metadata": {},
   "source": [
    "### itemsize attribute Return [int] the length of one array element in bytes"
   ]
  },
  {
   "cell_type": "code",
   "execution_count": 39,
   "id": "370cb0f2",
   "metadata": {},
   "outputs": [
    {
     "data": {
      "text/plain": [
       "4"
      ]
     },
     "execution_count": 39,
     "metadata": {},
     "output_type": "execute_result"
    }
   ],
   "source": [
    "# Get size in byte for a where a is an array of int32 \n",
    "a.itemsize\n"
   ]
  },
  {
   "cell_type": "code",
   "execution_count": 40,
   "id": "b65c3947",
   "metadata": {},
   "outputs": [
    {
     "data": {
      "text/plain": [
       "8"
      ]
     },
     "execution_count": 40,
     "metadata": {},
     "output_type": "execute_result"
    }
   ],
   "source": [
    "# Get size in bytes for b where b is an array of float64\n",
    "b.itemsize"
   ]
  },
  {
   "cell_type": "code",
   "execution_count": 41,
   "id": "cac99f8f",
   "metadata": {},
   "outputs": [
    {
     "data": {
      "text/plain": [
       "2"
      ]
     },
     "execution_count": 41,
     "metadata": {},
     "output_type": "execute_result"
    }
   ],
   "source": [
    "# Get size in bytes for c where c is an array of int16\n",
    "c.itemsize"
   ]
  },
  {
   "cell_type": "markdown",
   "id": "e39ff33f",
   "metadata": {},
   "source": [
    "### Total size"
   ]
  },
  {
   "cell_type": "code",
   "execution_count": 42,
   "id": "55a766ff",
   "metadata": {},
   "outputs": [
    {
     "data": {
      "text/plain": [
       "12"
      ]
     },
     "execution_count": 42,
     "metadata": {},
     "output_type": "execute_result"
    }
   ],
   "source": [
    "# Get Total size\n",
    "a.size * a.itemsize"
   ]
  },
  {
   "cell_type": "code",
   "execution_count": 43,
   "id": "ccc459be",
   "metadata": {},
   "outputs": [
    {
     "data": {
      "text/plain": [
       "12"
      ]
     },
     "execution_count": 43,
     "metadata": {},
     "output_type": "execute_result"
    }
   ],
   "source": [
    "# Get Total size\n",
    "a.nbytes"
   ]
  }
 ],
 "metadata": {
  "kernelspec": {
   "display_name": "Python 3 (ipykernel)",
   "language": "python",
   "name": "python3"
  },
  "language_info": {
   "codemirror_mode": {
    "name": "ipython",
    "version": 3
   },
   "file_extension": ".py",
   "mimetype": "text/x-python",
   "name": "python",
   "nbconvert_exporter": "python",
   "pygments_lexer": "ipython3",
   "version": "3.8.6"
  }
 },
 "nbformat": 4,
 "nbformat_minor": 5
}
