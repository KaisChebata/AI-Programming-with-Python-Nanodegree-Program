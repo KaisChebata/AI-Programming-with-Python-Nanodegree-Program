{
 "cells": [
  {
   "cell_type": "code",
   "execution_count": 1,
   "id": "89763d66",
   "metadata": {},
   "outputs": [],
   "source": [
    "import numpy as np"
   ]
  },
  {
   "cell_type": "markdown",
   "id": "249e1888",
   "metadata": {},
   "source": [
    "## slicing rank 2 ndarrays"
   ]
  },
  {
   "cell_type": "markdown",
   "id": "68a884fb",
   "metadata": {},
   "source": [
    "### slicing sub-array from ndarray"
   ]
  },
  {
   "cell_type": "code",
   "execution_count": 64,
   "id": "abe17d83",
   "metadata": {},
   "outputs": [
    {
     "name": "stdout",
     "output_type": "stream",
     "text": [
      "[[ 1  2  3  4  5]\n",
      " [ 6  7  8  9 10]\n",
      " [11 12 13 14 15]\n",
      " [16 17 18 19 20]]\n"
     ]
    }
   ],
   "source": [
    "m = np.arange(1, 21).reshape(4, 5)\n",
    "print(m)"
   ]
  },
  {
   "cell_type": "code",
   "execution_count": 65,
   "id": "8f5156ee",
   "metadata": {},
   "outputs": [
    {
     "name": "stdout",
     "output_type": "stream",
     "text": [
      "[[  8   9  10]\n",
      " [ 13  14  15]\n",
      " [ 18  19 555]]\n"
     ]
    }
   ],
   "source": [
    "# sub_m = m[1:4, 2:5]\n",
    "sun_m = m[1:, 2:]\n",
    "print(sub_m)"
   ]
  },
  {
   "cell_type": "code",
   "execution_count": 66,
   "id": "800e03e9",
   "metadata": {},
   "outputs": [
    {
     "name": "stdout",
     "output_type": "stream",
     "text": [
      "[[ 3  4  5]\n",
      " [ 8  9 10]\n",
      " [13 14 15]]\n"
     ]
    }
   ],
   "source": [
    "sub_m2 = m[:3, 2:]\n",
    "print(sub_m2)"
   ]
  },
  {
   "cell_type": "markdown",
   "id": "1d153ab3",
   "metadata": {},
   "source": [
    "### select elements in rows and cols"
   ]
  },
  {
   "cell_type": "code",
   "execution_count": 67,
   "id": "ba41ad67",
   "metadata": {},
   "outputs": [
    {
     "name": "stdout",
     "output_type": "stream",
     "text": [
      "[[ 1  2  3  4  5]\n",
      " [ 6  7  8  9 10]\n",
      " [11 12 13 14 15]\n",
      " [16 17 18 19 20]] \n",
      "\n",
      "[ 3  8 13 18]\n"
     ]
    }
   ],
   "source": [
    "# select all elements in 3rd col\n",
    "print(m, '\\n')\n",
    "e_3rd_col = m[:, 2]\n",
    "print(e_3rd_row)"
   ]
  },
  {
   "cell_type": "code",
   "execution_count": 68,
   "id": "26106f18",
   "metadata": {},
   "outputs": [
    {
     "name": "stdout",
     "output_type": "stream",
     "text": [
      "[[ 1  2  3  4  5]\n",
      " [ 6  7  8  9 10]\n",
      " [11 12 13 14 15]\n",
      " [16 17 18 19 20]] \n",
      "\n",
      "[[ 3]\n",
      " [ 8]\n",
      " [13]\n",
      " [18]]\n"
     ]
    }
   ],
   "source": [
    "# selec 3rd col and return it as rank 2 array\n",
    "print(m,'\\n')\n",
    "r_col = m[:, 2:3]\n",
    "print(r_col)"
   ]
  },
  {
   "cell_type": "code",
   "execution_count": 69,
   "id": "24788497",
   "metadata": {},
   "outputs": [
    {
     "name": "stdout",
     "output_type": "stream",
     "text": [
      "[[ 1  2  3  4  5]\n",
      " [ 6  7  8  9 10]\n",
      " [11 12 13 14 15]\n",
      " [16 17 18 19 20]] \n",
      "\n",
      "[ 6  7  8  9 10]\n"
     ]
    }
   ],
   "source": [
    "# select all elements in 2nd row\n",
    "print(m,'\\n')\n",
    "e_2nd_row = m[1]\n",
    "print(e_2nd_row)"
   ]
  },
  {
   "cell_type": "code",
   "execution_count": 70,
   "id": "6d32daae",
   "metadata": {},
   "outputs": [
    {
     "name": "stdout",
     "output_type": "stream",
     "text": [
      "[[ 1  2  3  4  5]\n",
      " [ 6  7  8  9 10]\n",
      " [11 12 13 14 15]\n",
      " [16 17 18 19 20]] \n",
      "\n",
      "[[ 6  7  8  9 10]]\n"
     ]
    }
   ],
   "source": [
    "# selec 2nd row and return it as rank 2 array\n",
    "print(m,'\\n')\n",
    "e_2nd_row = m[1:2]\n",
    "print(e_2nd_row)"
   ]
  },
  {
   "cell_type": "markdown",
   "id": "92f98a7b",
   "metadata": {},
   "source": [
    "### slicing as views and slicing and copies"
   ]
  },
  {
   "cell_type": "code",
   "execution_count": 71,
   "id": "37733d47",
   "metadata": {},
   "outputs": [
    {
     "name": "stdout",
     "output_type": "stream",
     "text": [
      "[[ 1  2  3  4  5]\n",
      " [ 6  7  8  9 10]\n",
      " [11 12 13 14 15]\n",
      " [16 17 18 19 20]] \n",
      "\n",
      "[[ 8  9 10]\n",
      " [13 14 15]\n",
      " [18 19 20]]\n"
     ]
    }
   ],
   "source": [
    "n = np.arange(1, 21).reshape(4, 5)\n",
    "print(n, '\\n')\n",
    "z = n[1:, 2:]\n",
    "print(z)"
   ]
  },
  {
   "cell_type": "code",
   "execution_count": 72,
   "id": "0688653b",
   "metadata": {},
   "outputs": [
    {
     "name": "stdout",
     "output_type": "stream",
     "text": [
      "[[  8   9  10]\n",
      " [ 13  14  15]\n",
      " [ 18  19 555]]\n"
     ]
    }
   ],
   "source": [
    "z[2, 2] = 555\n",
    "print(z)"
   ]
  },
  {
   "cell_type": "code",
   "execution_count": 74,
   "id": "d6ff2620",
   "metadata": {},
   "outputs": [
    {
     "name": "stdout",
     "output_type": "stream",
     "text": [
      "[[  1   2   3   4   5]\n",
      " [  6   7   8   9  10]\n",
      " [ 11  12  13  14  15]\n",
      " [ 16  17  18  19 555]]\n"
     ]
    }
   ],
   "source": [
    "print(n)"
   ]
  },
  {
   "cell_type": "code",
   "execution_count": 77,
   "id": "6f80a177",
   "metadata": {},
   "outputs": [
    {
     "name": "stdout",
     "output_type": "stream",
     "text": [
      "[[ 8  9 10]\n",
      " [13 14 15]\n",
      " [18 19 20]] \n",
      "\n"
     ]
    }
   ],
   "source": [
    "z1 = np.copy(m[1:, 2:])\n",
    "print(z1, '\\n')\n",
    "z1[2, 2] = 555"
   ]
  },
  {
   "cell_type": "code",
   "execution_count": 78,
   "id": "3576790c",
   "metadata": {},
   "outputs": [
    {
     "name": "stdout",
     "output_type": "stream",
     "text": [
      "[[ 1  2  3  4  5]\n",
      " [ 6  7  8  9 10]\n",
      " [11 12 13 14 15]\n",
      " [16 17 18 19 20]] \n",
      "\n",
      "[[  8   9  10]\n",
      " [ 13  14  15]\n",
      " [ 18  19 555]]\n"
     ]
    }
   ],
   "source": [
    "print(m, '\\n')\n",
    "print(z1)"
   ]
  },
  {
   "cell_type": "code",
   "execution_count": 79,
   "id": "8a395c5d",
   "metadata": {},
   "outputs": [
    {
     "name": "stdout",
     "output_type": "stream",
     "text": [
      "[[ 8  9 10]\n",
      " [13 14 15]\n",
      " [18 19 20]]\n"
     ]
    }
   ],
   "source": [
    "z2 = m[1:, 2:].copy()\n",
    "print(z2)"
   ]
  },
  {
   "cell_type": "code",
   "execution_count": 81,
   "id": "93fd6319",
   "metadata": {},
   "outputs": [
    {
     "name": "stdout",
     "output_type": "stream",
     "text": [
      "[[ 1  2  3  4  5]\n",
      " [ 6  7  8  9 10]\n",
      " [11 12 13 14 15]\n",
      " [16 17 18 19 20]] \n",
      "\n",
      "[[  8   9  10]\n",
      " [ 13  14  15]\n",
      " [ 18  19 555]]\n"
     ]
    }
   ],
   "source": [
    "z2[2, 2] = 555\n",
    "print(m, '\\n')\n",
    "print(z2)"
   ]
  },
  {
   "cell_type": "markdown",
   "id": "0afb6350",
   "metadata": {},
   "source": [
    "### select and slicing using array from another nd-array"
   ]
  },
  {
   "cell_type": "code",
   "execution_count": 82,
   "id": "b798f11f",
   "metadata": {},
   "outputs": [
    {
     "name": "stdout",
     "output_type": "stream",
     "text": [
      "[[ 1  2  3  4  5]\n",
      " [ 6  7  8  9 10]\n",
      " [11 12 13 14 15]\n",
      " [16 17 18 19 20]]\n"
     ]
    }
   ],
   "source": [
    "x = np.arange(1, 21).reshape(4, 5)\n",
    "print(x)"
   ]
  },
  {
   "cell_type": "code",
   "execution_count": 83,
   "id": "8c7ea5bf",
   "metadata": {},
   "outputs": [
    {
     "name": "stdout",
     "output_type": "stream",
     "text": [
      "[1 3]\n"
     ]
    }
   ],
   "source": [
    "indices = np.array([1, 3])\n",
    "print(indices)"
   ]
  },
  {
   "cell_type": "code",
   "execution_count": 88,
   "id": "ff00307b",
   "metadata": {},
   "outputs": [
    {
     "name": "stdout",
     "output_type": "stream",
     "text": [
      "[[ 6  7  8  9 10]\n",
      " [16 17 18 19 20]]\n"
     ]
    }
   ],
   "source": [
    "y = x[indices, :].copy()\n",
    "print(y)"
   ]
  },
  {
   "cell_type": "code",
   "execution_count": 89,
   "id": "89f491c5",
   "metadata": {},
   "outputs": [
    {
     "name": "stdout",
     "output_type": "stream",
     "text": [
      "[[ 2  4]\n",
      " [ 7  9]\n",
      " [12 14]\n",
      " [17 19]]\n"
     ]
    }
   ],
   "source": [
    "z = x[:, indices]\n",
    "print(z)"
   ]
  },
  {
   "cell_type": "markdown",
   "id": "b93a5b33",
   "metadata": {},
   "source": [
    "### diagonals"
   ]
  },
  {
   "cell_type": "code",
   "execution_count": 92,
   "id": "02afffcc",
   "metadata": {},
   "outputs": [
    {
     "name": "stdout",
     "output_type": "stream",
     "text": [
      "[[ 0  1  2  3  4]\n",
      " [ 5  6  7  8  9]\n",
      " [10 11 12 13 14]\n",
      " [15 16 17 18 19]]\n"
     ]
    }
   ],
   "source": [
    "w = np.arange(20).reshape(4, 5)\n",
    "print(w)"
   ]
  },
  {
   "cell_type": "code",
   "execution_count": 96,
   "id": "3a377cd6",
   "metadata": {},
   "outputs": [
    {
     "name": "stdout",
     "output_type": "stream",
     "text": [
      "[ 0  6 12 18]\n"
     ]
    }
   ],
   "source": [
    "# main diagonal\n",
    "# dia = w.diagonal() # also work\n",
    "dia = np.diag(w)\n",
    "print(dia)"
   ]
  },
  {
   "cell_type": "code",
   "execution_count": 104,
   "id": "d7145946",
   "metadata": {},
   "outputs": [
    {
     "name": "stdout",
     "output_type": "stream",
     "text": [
      "[ 5 11 17]\n"
     ]
    }
   ],
   "source": [
    "# below main diagona\n",
    "dia_b = np.diag(w, k=-1)\n",
    "print(dia_b)"
   ]
  },
  {
   "cell_type": "code",
   "execution_count": 107,
   "id": "75dc9292",
   "metadata": {},
   "outputs": [
    {
     "name": "stdout",
     "output_type": "stream",
     "text": [
      "[ 1  7 13 19]\n"
     ]
    }
   ],
   "source": [
    "# above main diagona\n",
    "# dia_a = w.diagonal(1)\n",
    "dia_a = np.diag(w, k=1)\n",
    "print(dia_a)"
   ]
  },
  {
   "cell_type": "markdown",
   "id": "b3baacba",
   "metadata": {},
   "source": [
    "### unique"
   ]
  },
  {
   "cell_type": "code",
   "execution_count": 108,
   "id": "215588ea",
   "metadata": {},
   "outputs": [
    {
     "name": "stdout",
     "output_type": "stream",
     "text": [
      "[[1 2 3]\n",
      " [5 2 8]\n",
      " [1 2 3]]\n"
     ]
    }
   ],
   "source": [
    "arr = np.array([[1, 2, 3], [5, 2, 8], [1, 2, 3]])\n",
    "print(arr)"
   ]
  },
  {
   "cell_type": "code",
   "execution_count": 122,
   "id": "f5cb2f11",
   "metadata": {},
   "outputs": [
    {
     "name": "stdout",
     "output_type": "stream",
     "text": [
      "[1 2 3 5 8]\n"
     ]
    }
   ],
   "source": [
    "u = np.unique(arr)\n",
    "print(u)\n",
    "\n",
    "# return_index=False,\n",
    "# return_inverse=False,\n",
    "# return_counts=False,\n",
    "# axis=None,"
   ]
  },
  {
   "cell_type": "code",
   "execution_count": null,
   "id": "106bf83c",
   "metadata": {},
   "outputs": [],
   "source": []
  }
 ],
 "metadata": {
  "kernelspec": {
   "display_name": "Python 3 (ipykernel)",
   "language": "python",
   "name": "python3"
  },
  "language_info": {
   "codemirror_mode": {
    "name": "ipython",
    "version": 3
   },
   "file_extension": ".py",
   "mimetype": "text/x-python",
   "name": "python",
   "nbconvert_exporter": "python",
   "pygments_lexer": "ipython3",
   "version": "3.8.6"
  }
 },
 "nbformat": 4,
 "nbformat_minor": 5
}
