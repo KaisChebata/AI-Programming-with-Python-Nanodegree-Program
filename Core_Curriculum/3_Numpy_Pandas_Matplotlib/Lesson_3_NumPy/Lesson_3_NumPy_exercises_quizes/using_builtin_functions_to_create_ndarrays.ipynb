{
 "cells": [
  {
   "cell_type": "code",
   "execution_count": 1,
   "id": "fc01bdbf",
   "metadata": {},
   "outputs": [],
   "source": [
    "import numpy as np"
   ]
  },
  {
   "cell_type": "code",
   "execution_count": 3,
   "id": "0b0f6e21",
   "metadata": {},
   "outputs": [
    {
     "name": "stdout",
     "output_type": "stream",
     "text": [
      "[[0. 0. 0. 0.]\n",
      " [0. 0. 0. 0.]\n",
      " [0. 0. 0. 0.]]\n"
     ]
    }
   ],
   "source": [
    "# create ndarray of zeros\n",
    "z = np.zeros((3, 4))\n",
    "print(z)"
   ]
  },
  {
   "cell_type": "code",
   "execution_count": 8,
   "id": "a342b3bb",
   "metadata": {},
   "outputs": [
    {
     "name": "stdout",
     "output_type": "stream",
     "text": [
      "[[1 1 1 1 1]\n",
      " [1 1 1 1 1]\n",
      " [1 1 1 1 1]\n",
      " [1 1 1 1 1]]\n"
     ]
    }
   ],
   "source": [
    "# create ndarray of ones\n",
    "x = np.ones((4, 5), dtype=int)\n",
    "print(x)"
   ]
  },
  {
   "cell_type": "code",
   "execution_count": 9,
   "id": "c1dc468e",
   "metadata": {},
   "outputs": [
    {
     "name": "stdout",
     "output_type": "stream",
     "text": [
      "[[5 5 5 5]\n",
      " [5 5 5 5]\n",
      " [5 5 5 5]]\n"
     ]
    }
   ],
   "source": [
    "# create an array filled with constants values\n",
    "y = np.full((3, 4), 5)\n",
    "print(y)"
   ]
  },
  {
   "cell_type": "code",
   "execution_count": 15,
   "id": "c4a850e6",
   "metadata": {},
   "outputs": [
    {
     "name": "stdout",
     "output_type": "stream",
     "text": [
      "[[1. 0. 0. 0. 0.]\n",
      " [0. 1. 0. 0. 0.]\n",
      " [0. 0. 1. 0. 0.]\n",
      " [0. 0. 0. 1. 0.]\n",
      " [0. 0. 0. 0. 1.]]\n"
     ]
    }
   ],
   "source": [
    "# create identity matrix using eye func\n",
    "ide = np.eye(5)\n",
    "print(ide)"
   ]
  },
  {
   "cell_type": "code",
   "execution_count": 16,
   "id": "324d707a",
   "metadata": {},
   "outputs": [
    {
     "name": "stdout",
     "output_type": "stream",
     "text": [
      "[[10  0  0  0  0]\n",
      " [ 0 20  0  0  0]\n",
      " [ 0  0 30  0  0]\n",
      " [ 0  0  0 40  0]\n",
      " [ 0  0  0  0 50]]\n"
     ]
    }
   ],
   "source": [
    "# create a diagonal matrix\n",
    "d = np.diag([10, 20, 30, 40, 50])\n",
    "print(d)"
   ]
  },
  {
   "cell_type": "code",
   "execution_count": 17,
   "id": "8d34aa09",
   "metadata": {},
   "outputs": [
    {
     "name": "stdout",
     "output_type": "stream",
     "text": [
      "[ 1  3  5  7  9 11 13 15 17 19]\n"
     ]
    }
   ],
   "source": [
    "# Generate a rank 1 array with arange func\n",
    "gen = np.arange(1, 20, 2)\n",
    "print(gen)"
   ]
  },
  {
   "cell_type": "code",
   "execution_count": 18,
   "id": "1c20c146",
   "metadata": {},
   "outputs": [
    {
     "name": "stdout",
     "output_type": "stream",
     "text": [
      "[ 0.          2.77777778  5.55555556  8.33333333 11.11111111 13.88888889\n",
      " 16.66666667 19.44444444 22.22222222 25.        ]\n"
     ]
    }
   ],
   "source": [
    "# Generate a rank 1 array its element evenly spaced with linspace\n",
    "lin = np.linspace(0, 25, 10)\n",
    "print(lin)"
   ]
  },
  {
   "cell_type": "code",
   "execution_count": 30,
   "id": "63cea36b",
   "metadata": {},
   "outputs": [
    {
     "name": "stdout",
     "output_type": "stream",
     "text": [
      "[ 0.   2.5  5.   7.5 10.  12.5 15.  17.5 20.  22.5]\n"
     ]
    }
   ],
   "source": [
    "# Generate a rank 1 array its element evenly spaced with linspace\n",
    "lin = np.linspace(0, 25, 10, endpoint=False)\n",
    "print(lin)"
   ]
  },
  {
   "cell_type": "code",
   "execution_count": 32,
   "id": "8db16222",
   "metadata": {},
   "outputs": [
    {
     "name": "stdout",
     "output_type": "stream",
     "text": [
      "[ 1  2  3  4  5  6  7  8  9 10 11 12 13 14 15 16 17 18 19 20]\n"
     ]
    }
   ],
   "source": [
    "# Create rank 2 array with arange and reshape \n",
    "m = np.arange(1, 21)\n",
    "print(m)"
   ]
  },
  {
   "cell_type": "code",
   "execution_count": 35,
   "id": "7b787612",
   "metadata": {},
   "outputs": [],
   "source": [
    "mat = np.reshape(m, (4, 5))"
   ]
  },
  {
   "cell_type": "code",
   "execution_count": 36,
   "id": "44d56437",
   "metadata": {},
   "outputs": [
    {
     "data": {
      "text/plain": [
       "array([[ 1,  2,  3,  4,  5],\n",
       "       [ 6,  7,  8,  9, 10],\n",
       "       [11, 12, 13, 14, 15],\n",
       "       [16, 17, 18, 19, 20]])"
      ]
     },
     "execution_count": 36,
     "metadata": {},
     "output_type": "execute_result"
    }
   ],
   "source": [
    "mat"
   ]
  },
  {
   "cell_type": "code",
   "execution_count": 41,
   "id": "e1fd4059",
   "metadata": {},
   "outputs": [
    {
     "name": "stdout",
     "output_type": "stream",
     "text": [
      "[[ 1  2  3  4  5  6  7  8  9 10]\n",
      " [11 12 13 14 15 16 17 18 19 20]]\n"
     ]
    }
   ],
   "source": [
    "mat2 = np.reshape(m, (2, 10))\n",
    "# mat2 = np.reshape(m, (10, 2))\n",
    "print(mat2)"
   ]
  },
  {
   "cell_type": "code",
   "execution_count": 45,
   "id": "25f7582d",
   "metadata": {},
   "outputs": [
    {
     "name": "stdout",
     "output_type": "stream",
     "text": [
      "[[ 1  2  3  4  5]\n",
      " [ 6  7  8  9 10]\n",
      " [11 12 13 14 15]\n",
      " [16 17 18 19 20]]\n"
     ]
    }
   ],
   "source": [
    "# extra exa\n",
    "r_mat = np.arange(1, 21).reshape(4, 5)\n",
    "print(r_mat)"
   ]
  },
  {
   "cell_type": "code",
   "execution_count": 47,
   "id": "00af9683",
   "metadata": {},
   "outputs": [
    {
     "name": "stdout",
     "output_type": "stream",
     "text": [
      "[[ 0.   2.5]\n",
      " [ 5.   7.5]\n",
      " [10.  12.5]\n",
      " [15.  17.5]\n",
      " [20.  22.5]]\n"
     ]
    }
   ],
   "source": [
    "lins = np.linspace(0, 25, 10, endpoint=False).reshape(5, 2)\n",
    "\n",
    "print(lins)"
   ]
  },
  {
   "cell_type": "code",
   "execution_count": 52,
   "id": "c878b27f",
   "metadata": {},
   "outputs": [
    {
     "name": "stdout",
     "output_type": "stream",
     "text": [
      "[[0.34969245 0.97631797 0.45829604]\n",
      " [0.76251253 0.94466364 0.46831382]\n",
      " [0.65010254 0.65831991 0.45862943]]\n"
     ]
    }
   ],
   "source": [
    "# create ndarray filled with random float in range [0.0, 1.0)\n",
    "ran_mat = np.random.random((3, 3))\n",
    "print(ran_mat)"
   ]
  },
  {
   "cell_type": "code",
   "execution_count": 55,
   "id": "86ae4082",
   "metadata": {},
   "outputs": [
    {
     "name": "stdout",
     "output_type": "stream",
     "text": [
      "[[11 11  6]\n",
      " [ 9 14 13]\n",
      " [10  5  9]]\n"
     ]
    }
   ],
   "source": [
    "# create random ndarray with random.randint\n",
    "int_mat = np.random.randint(5, 16, (3, 3))\n",
    "print(int_mat)"
   ]
  },
  {
   "cell_type": "code",
   "execution_count": 65,
   "id": "ab6d9764",
   "metadata": {},
   "outputs": [
    {
     "name": "stdout",
     "output_type": "stream",
     "text": [
      "[[ 0.1461221  -0.12599155  0.07410877 ... -0.13765832  0.03208659\n",
      "  -0.03781071]\n",
      " [ 0.02141487  0.15961039 -0.09703337 ...  0.14707449 -0.02063653\n",
      "  -0.21305615]\n",
      " [ 0.03276387  0.04923444 -0.01735113 ... -0.0981331  -0.10148682\n",
      "   0.05893727]\n",
      " ...\n",
      " [ 0.00301056  0.0703776  -0.09717976 ... -0.02724844 -0.11464288\n",
      "   0.06981614]\n",
      " [-0.19642874 -0.15191478 -0.18404365 ... -0.00284964 -0.14589323\n",
      "   0.00992575]\n",
      " [ 0.09721531 -0.0092672  -0.04526228 ... -0.09615498  0.22560753\n",
      "  -0.04335931]]\n"
     ]
    }
   ],
   "source": [
    "# create rank 2 array with random.normal\n",
    "n = np.random.normal(0, 0.1, (1000, 1000))\n",
    "print(n)"
   ]
  },
  {
   "cell_type": "code",
   "execution_count": 66,
   "id": "383b8dfa",
   "metadata": {},
   "outputs": [
    {
     "name": "stdout",
     "output_type": "stream",
     "text": [
      "mean: -0.00025422127382242546\n",
      "std: 0.10005370283721256\n",
      "max: 0.5050137179102612\n",
      "min: -0.4607838854856614\n",
      "# positive: 20\n",
      "# negative: 0\n"
     ]
    }
   ],
   "source": [
    "print('mean:', n.mean())\n",
    "print('std:', n.std())\n",
    "print('max:', n.max())\n",
    "print('min:', n.min())\n",
    "print('# positive:', (x > 0).sum())\n",
    "print('# negative:', (x < 0).sum())"
   ]
  },
  {
   "cell_type": "code",
   "execution_count": 77,
   "id": "ee40958d",
   "metadata": {},
   "outputs": [
    {
     "name": "stdout",
     "output_type": "stream",
     "text": [
      "[10 11 12 13 14 15 16 17 18 19]\n",
      "int32\n"
     ]
    }
   ],
   "source": [
    "w = np.arange(10, 20)\n",
    "print(w)\n",
    "print(w.dtype)"
   ]
  },
  {
   "cell_type": "code",
   "execution_count": 78,
   "id": "3d85f37c",
   "metadata": {},
   "outputs": [
    {
     "data": {
      "text/plain": [
       "((10,), 1, 10, 4)"
      ]
     },
     "execution_count": 78,
     "metadata": {},
     "output_type": "execute_result"
    }
   ],
   "source": [
    "w.shape, w.ndim, w.size, w.itemsize"
   ]
  },
  {
   "cell_type": "code",
   "execution_count": 80,
   "id": "7b945810",
   "metadata": {},
   "outputs": [
    {
     "data": {
      "text/plain": [
       "array([10, 11, 12, 13, 14, 15, 16, 17, 18, 19])"
      ]
     },
     "execution_count": 80,
     "metadata": {},
     "output_type": "execute_result"
    }
   ],
   "source": [
    "w.reshape(2, 5)\n",
    "w"
   ]
  },
  {
   "cell_type": "code",
   "execution_count": null,
   "id": "5d5f18c6",
   "metadata": {},
   "outputs": [],
   "source": []
  }
 ],
 "metadata": {
  "kernelspec": {
   "display_name": "Python 3 (ipykernel)",
   "language": "python",
   "name": "python3"
  },
  "language_info": {
   "codemirror_mode": {
    "name": "ipython",
    "version": 3
   },
   "file_extension": ".py",
   "mimetype": "text/x-python",
   "name": "python",
   "nbconvert_exporter": "python",
   "pygments_lexer": "ipython3",
   "version": "3.8.6"
  }
 },
 "nbformat": 4,
 "nbformat_minor": 5
}
