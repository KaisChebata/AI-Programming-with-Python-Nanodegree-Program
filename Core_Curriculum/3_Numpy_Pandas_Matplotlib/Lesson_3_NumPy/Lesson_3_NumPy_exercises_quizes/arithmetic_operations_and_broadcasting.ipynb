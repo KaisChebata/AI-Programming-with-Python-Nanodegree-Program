{
 "cells": [
  {
   "cell_type": "code",
   "execution_count": 1,
   "id": "859a38b1",
   "metadata": {},
   "outputs": [],
   "source": [
    "import numpy as np"
   ]
  },
  {
   "cell_type": "markdown",
   "id": "e26697fb",
   "metadata": {},
   "source": [
    "### Arithmetic on rank 1 arrays"
   ]
  },
  {
   "cell_type": "code",
   "execution_count": 5,
   "id": "7b789763",
   "metadata": {},
   "outputs": [
    {
     "name": "stdout",
     "output_type": "stream",
     "text": [
      "[1 2 3 4]\n",
      "[5 6 7 8]\n"
     ]
    }
   ],
   "source": [
    "x = np.arange(1, 5)\n",
    "y = np.arange(5, 9)\n",
    "print(f'{x}\\n{y}')"
   ]
  },
  {
   "cell_type": "code",
   "execution_count": 6,
   "id": "b1de4e87",
   "metadata": {},
   "outputs": [
    {
     "name": "stdout",
     "output_type": "stream",
     "text": [
      "[ 6  8 10 12]\n",
      "[ 6  8 10 12]\n"
     ]
    }
   ],
   "source": [
    "print(x + y)\n",
    "print(np.add(x, y))"
   ]
  },
  {
   "cell_type": "code",
   "execution_count": 7,
   "id": "3da69b4f",
   "metadata": {},
   "outputs": [
    {
     "name": "stdout",
     "output_type": "stream",
     "text": [
      "sub op:[-4 -4 -4 -4]\n",
      "sum function: [-4 -4 -4 -4]\n",
      "multiply op:[ 5 12 21 32]\n",
      "multiply function: [ 5 12 21 32]\n",
      "divide op:[0.2        0.33333333 0.42857143 0.5       ]\n",
      "multiply function: [0.2        0.33333333 0.42857143 0.5       ]\n"
     ]
    }
   ],
   "source": [
    "print(f'sub op:{x - y}')\n",
    "print(f'sum function: {np.subtract(x, y)}')\n",
    "print(f'multiply op:{x * y}')\n",
    "print(f'multiply function: {np.multiply(x, y)}')\n",
    "print(f'divide op:{x / y}')\n",
    "print(f'multiply function: {np.divide(x, y)}')\n"
   ]
  },
  {
   "cell_type": "markdown",
   "id": "7a13e42b",
   "metadata": {},
   "source": [
    "### Arithmetic on rank 2 nd-arrays"
   ]
  },
  {
   "cell_type": "code",
   "execution_count": 8,
   "id": "1608a381",
   "metadata": {},
   "outputs": [
    {
     "name": "stdout",
     "output_type": "stream",
     "text": [
      "[[1 2]\n",
      " [3 4]]\n",
      "######\n",
      "[[5 6]\n",
      " [7 8]]\n"
     ]
    }
   ],
   "source": [
    "m = np.arange(1, 5).reshape(2, 2)\n",
    "n = np.arange(5, 9).reshape(2, 2)\n",
    "print(f'{m}\\n######\\n{n}')"
   ]
  },
  {
   "cell_type": "code",
   "execution_count": 9,
   "id": "fa9c96aa",
   "metadata": {},
   "outputs": [
    {
     "name": "stdout",
     "output_type": "stream",
     "text": [
      "sum op:[[ 6  8]\n",
      " [10 12]]\n",
      "sum function: [[ 6  8]\n",
      " [10 12]]\n",
      "sub op:[[-4 -4]\n",
      " [-4 -4]]\n",
      "sub function: [[-4 -4]\n",
      " [-4 -4]]\n",
      "multiply op:[[ 5 12]\n",
      " [21 32]]\n",
      "multiply function: [[ 5 12]\n",
      " [21 32]]\n",
      "divide op:[[0.2        0.33333333]\n",
      " [0.42857143 0.5       ]]\n",
      "multiply function: [[0.2        0.33333333]\n",
      " [0.42857143 0.5       ]]\n"
     ]
    }
   ],
   "source": [
    "print(f'sum op:{m + n}')\n",
    "print(f'sum function: {np.add(m, n)}')\n",
    "print(f'sub op:{m - n}')\n",
    "print(f'sub function: {np.subtract(m, n)}')\n",
    "print(f'multiply op:{m * n}')\n",
    "print(f'multiply function: {np.multiply(m, n)}')\n",
    "print(f'divide op:{m / n}')\n",
    "print(f'multiply function: {np.divide(m, n)}')"
   ]
  },
  {
   "cell_type": "markdown",
   "id": "627a3aec",
   "metadata": {},
   "source": [
    "### Apply math function to all of the elements array"
   ]
  },
  {
   "cell_type": "code",
   "execution_count": 10,
   "id": "31be2da7",
   "metadata": {},
   "outputs": [
    {
     "name": "stdout",
     "output_type": "stream",
     "text": [
      "[1 2 3 4]\n"
     ]
    }
   ],
   "source": [
    "print(x)"
   ]
  },
  {
   "cell_type": "code",
   "execution_count": 11,
   "id": "64e4d9d6",
   "metadata": {},
   "outputs": [
    {
     "name": "stdout",
     "output_type": "stream",
     "text": [
      "[1.         1.41421356 1.73205081 2.        ]\n"
     ]
    }
   ],
   "source": [
    "print(np.sqrt(x))"
   ]
  },
  {
   "cell_type": "code",
   "execution_count": 12,
   "id": "3b689750",
   "metadata": {},
   "outputs": [
    {
     "name": "stdout",
     "output_type": "stream",
     "text": [
      "[ 2.71828183  7.3890561  20.08553692 54.59815003]\n"
     ]
    }
   ],
   "source": [
    "print(np.exp(x))"
   ]
  },
  {
   "cell_type": "code",
   "execution_count": 13,
   "id": "02d7f4ae",
   "metadata": {},
   "outputs": [
    {
     "name": "stdout",
     "output_type": "stream",
     "text": [
      "[ 1  4  9 16]\n"
     ]
    }
   ],
   "source": [
    "print(np.power(x, 2))"
   ]
  },
  {
   "cell_type": "markdown",
   "id": "7d17a9ab",
   "metadata": {},
   "source": [
    "### Apply Statisticals ops to an array"
   ]
  },
  {
   "cell_type": "code",
   "execution_count": 14,
   "id": "0648771f",
   "metadata": {},
   "outputs": [
    {
     "name": "stdout",
     "output_type": "stream",
     "text": [
      "[[1 2]\n",
      " [3 4]]\n"
     ]
    }
   ],
   "source": [
    "print(m)"
   ]
  },
  {
   "cell_type": "code",
   "execution_count": 17,
   "id": "91cbea07",
   "metadata": {},
   "outputs": [
    {
     "name": "stdout",
     "output_type": "stream",
     "text": [
      "Avarage of all: 2.5\n"
     ]
    }
   ],
   "source": [
    "print(f'Avarage of all: {m.mean()}')"
   ]
  },
  {
   "cell_type": "code",
   "execution_count": 20,
   "id": "f6d8644e",
   "metadata": {},
   "outputs": [
    {
     "name": "stdout",
     "output_type": "stream",
     "text": [
      "Avarage of columns: [2. 3.]\n",
      "Avarage of rows: [1.5 3.5]\n"
     ]
    }
   ],
   "source": [
    "print(f'Avarage of columns: {m.mean(axis=0)}')\n",
    "print(f'Avarage of rows: {m.mean(axis=1)}')"
   ]
  },
  {
   "cell_type": "code",
   "execution_count": 23,
   "id": "c6081ca7",
   "metadata": {},
   "outputs": [
    {
     "name": "stdout",
     "output_type": "stream",
     "text": [
      "sum of all: 10\n",
      "sum of columns: [4 6]\n",
      "sum of rows: [3 7]\n"
     ]
    }
   ],
   "source": [
    "print(f'sum of all: {m.sum()}')\n",
    "print(f'sum of columns: {m.sum(axis=0)}')\n",
    "print(f'sum of rows: {m.sum(axis=1)}')"
   ]
  },
  {
   "cell_type": "code",
   "execution_count": 27,
   "id": "434ade32",
   "metadata": {},
   "outputs": [
    {
     "name": "stdout",
     "output_type": "stream",
     "text": [
      "std of m: 1.118033988749895\n",
      "median of m: 2.5\n",
      "max of m: 4\n",
      "min of m: 1\n"
     ]
    }
   ],
   "source": [
    "print(f'std of m: {m.std()}')\n",
    "print(f'median of m: {np.median(m)}')\n",
    "print(f'max of m: {m.max()}')\n",
    "print(f'min of m: {m.min()}')"
   ]
  },
  {
   "cell_type": "markdown",
   "id": "d0b5e5ff",
   "metadata": {},
   "source": [
    "### Broadcasting"
   ]
  },
  {
   "cell_type": "code",
   "execution_count": 28,
   "id": "ae50f9ab",
   "metadata": {},
   "outputs": [
    {
     "name": "stdout",
     "output_type": "stream",
     "text": [
      "[[1 2]\n",
      " [3 4]]\n"
     ]
    }
   ],
   "source": [
    "print(m)"
   ]
  },
  {
   "cell_type": "code",
   "execution_count": 30,
   "id": "e18573fb",
   "metadata": {},
   "outputs": [
    {
     "name": "stdout",
     "output_type": "stream",
     "text": [
      "[[4 5]\n",
      " [6 7]]\n",
      "[[-2 -1]\n",
      " [ 0  1]]\n",
      "[[ 3  6]\n",
      " [ 9 12]]\n",
      "[[0.33333333 0.66666667]\n",
      " [1.         1.33333333]]\n"
     ]
    }
   ],
   "source": [
    "print(m + 3)\n",
    "print(m - 3)\n",
    "print(m * 3)\n",
    "print(m / 3)"
   ]
  },
  {
   "cell_type": "code",
   "execution_count": 49,
   "id": "cc911941",
   "metadata": {},
   "outputs": [
    {
     "name": "stdout",
     "output_type": "stream",
     "text": [
      "[[0 1 2]\n",
      " [3 4 5]\n",
      " [6 7 8]]\n",
      "####\n",
      "[0 1 2]\n",
      "####\n",
      "[[0]\n",
      " [1]\n",
      " [2]]\n"
     ]
    }
   ],
   "source": [
    "w = np.arange(9).reshape(3, 3)\n",
    "v = np.arange(3)\n",
    "z = np.arange(3).reshape(3, 1)\n",
    "print(w)\n",
    "print('####')\n",
    "print(v,)\n",
    "print('####')\n",
    "print(z)"
   ]
  },
  {
   "cell_type": "code",
   "execution_count": 50,
   "id": "c2aa395d",
   "metadata": {},
   "outputs": [
    {
     "name": "stdout",
     "output_type": "stream",
     "text": [
      "[[ 0  2  4]\n",
      " [ 3  5  7]\n",
      " [ 6  8 10]]\n"
     ]
    }
   ],
   "source": [
    "print(w + v)"
   ]
  },
  {
   "cell_type": "code",
   "execution_count": 51,
   "id": "d4e4f3b7",
   "metadata": {},
   "outputs": [
    {
     "name": "stdout",
     "output_type": "stream",
     "text": [
      "[[ 0  2  4]\n",
      " [ 3  5  7]\n",
      " [ 6  8 10]]\n"
     ]
    }
   ],
   "source": [
    "print(np.add(w, v))"
   ]
  },
  {
   "cell_type": "code",
   "execution_count": 52,
   "id": "0bc38022",
   "metadata": {},
   "outputs": [
    {
     "name": "stdout",
     "output_type": "stream",
     "text": [
      "[[ 0  1  2]\n",
      " [ 4  5  6]\n",
      " [ 8  9 10]]\n"
     ]
    }
   ],
   "source": [
    "print(w + z)"
   ]
  },
  {
   "cell_type": "code",
   "execution_count": 58,
   "id": "ec564bbc",
   "metadata": {},
   "outputs": [
    {
     "name": "stdout",
     "output_type": "stream",
     "text": [
      "[[0]\n",
      " [1]\n",
      " [2]\n",
      " [3]\n",
      " [4]]\n",
      "[[0 1 2 3 4 5]]\n",
      "[0 1 2 3 4 5]\n",
      "2\n"
     ]
    }
   ],
   "source": [
    "a = np.arange(5).reshape(5, 1)\n",
    "b = np.arange(6).reshape(1, 6)\n",
    "c = np.arange(6)\n",
    "d = np.array(2)\n",
    "print(a)\n",
    "print(b)\n",
    "print(c)\n",
    "print(d)"
   ]
  },
  {
   "cell_type": "code",
   "execution_count": 59,
   "id": "6dfcee8d",
   "metadata": {},
   "outputs": [
    {
     "data": {
      "text/plain": [
       "array([0, 1, 2, 3, 4])"
      ]
     },
     "execution_count": 59,
     "metadata": {},
     "output_type": "execute_result"
    }
   ],
   "source": [
    "a[:, 0]"
   ]
  },
  {
   "cell_type": "code",
   "execution_count": 60,
   "id": "cf717e75",
   "metadata": {},
   "outputs": [
    {
     "data": {
      "text/plain": [
       "array([[0],\n",
       "       [1],\n",
       "       [2],\n",
       "       [3],\n",
       "       [4]])"
      ]
     },
     "execution_count": 60,
     "metadata": {},
     "output_type": "execute_result"
    }
   ],
   "source": [
    "a"
   ]
  },
  {
   "cell_type": "code",
   "execution_count": 62,
   "id": "a10a22ae",
   "metadata": {},
   "outputs": [
    {
     "data": {
      "text/plain": [
       "array([0, 1, 2, 3, 4, 5])"
      ]
     },
     "execution_count": 62,
     "metadata": {},
     "output_type": "execute_result"
    }
   ],
   "source": [
    "b[0, :]"
   ]
  },
  {
   "cell_type": "code",
   "execution_count": 63,
   "id": "bbc842cd",
   "metadata": {},
   "outputs": [],
   "source": [
    "a = np.array([0.0, 10.0, 20.0, 30.0])\n",
    "\n",
    "b = np.array([1.0, 2.0, 3.0])"
   ]
  },
  {
   "cell_type": "code",
   "execution_count": 71,
   "id": "a166b877",
   "metadata": {},
   "outputs": [
    {
     "data": {
      "text/plain": [
       "array([ 0., 10., 20., 30.])"
      ]
     },
     "execution_count": 71,
     "metadata": {},
     "output_type": "execute_result"
    }
   ],
   "source": [
    "a[:]"
   ]
  },
  {
   "cell_type": "code",
   "execution_count": 70,
   "id": "c21ab83f",
   "metadata": {},
   "outputs": [
    {
     "data": {
      "text/plain": [
       "array([[ 0.],\n",
       "       [10.],\n",
       "       [20.],\n",
       "       [30.]])"
      ]
     },
     "execution_count": 70,
     "metadata": {},
     "output_type": "execute_result"
    }
   ],
   "source": [
    "a[:, np.newaxis]"
   ]
  },
  {
   "cell_type": "code",
   "execution_count": null,
   "id": "3a7c8edc",
   "metadata": {},
   "outputs": [],
   "source": []
  }
 ],
 "metadata": {
  "kernelspec": {
   "display_name": "Python 3 (ipykernel)",
   "language": "python",
   "name": "python3"
  },
  "language_info": {
   "codemirror_mode": {
    "name": "ipython",
    "version": 3
   },
   "file_extension": ".py",
   "mimetype": "text/x-python",
   "name": "python",
   "nbconvert_exporter": "python",
   "pygments_lexer": "ipython3",
   "version": "3.8.6"
  }
 },
 "nbformat": 4,
 "nbformat_minor": 5
}
