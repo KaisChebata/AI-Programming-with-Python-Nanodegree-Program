{
 "cells": [
  {
   "cell_type": "code",
   "execution_count": 1,
   "id": "d220b010",
   "metadata": {},
   "outputs": [],
   "source": [
    "import numpy as np"
   ]
  },
  {
   "cell_type": "markdown",
   "id": "3695b992",
   "metadata": {},
   "source": [
    "### Accessing and changing rank 1 ndarray"
   ]
  },
  {
   "cell_type": "code",
   "execution_count": 2,
   "id": "b6913e14",
   "metadata": {},
   "outputs": [],
   "source": [
    "x = np.arange(1, 6)"
   ]
  },
  {
   "cell_type": "code",
   "execution_count": 3,
   "id": "019129c5",
   "metadata": {},
   "outputs": [
    {
     "name": "stdout",
     "output_type": "stream",
     "text": [
      "[1 2 3 4 5]\n"
     ]
    }
   ],
   "source": [
    "print(x)"
   ]
  },
  {
   "cell_type": "code",
   "execution_count": 4,
   "id": "83488f9b",
   "metadata": {},
   "outputs": [
    {
     "name": "stdout",
     "output_type": "stream",
     "text": [
      "1st ele: 1\n",
      "2nd ele: 2\n",
      "5th ele: 5\n"
     ]
    }
   ],
   "source": [
    "print('1st ele:', x[0])\n",
    "print('2nd ele:', x[1])\n",
    "print('5th ele:', x[4])"
   ]
  },
  {
   "cell_type": "code",
   "execution_count": 5,
   "id": "80b4f43f",
   "metadata": {},
   "outputs": [
    {
     "name": "stdout",
     "output_type": "stream",
     "text": [
      "1st ele: 1\n",
      "1st ele: 2\n",
      "1st ele: 5\n"
     ]
    }
   ],
   "source": [
    "print('1st ele:', x[-5])\n",
    "print('1st ele:', x[-4])\n",
    "print('1st ele:', x[-1])"
   ]
  },
  {
   "cell_type": "code",
   "execution_count": 6,
   "id": "7cf7eabb",
   "metadata": {},
   "outputs": [
    {
     "name": "stdout",
     "output_type": "stream",
     "text": [
      "[ 1  2  3 20  5]\n"
     ]
    }
   ],
   "source": [
    "x[3] = 20\n",
    "print(x)"
   ]
  },
  {
   "cell_type": "markdown",
   "id": "fd9f73bd",
   "metadata": {},
   "source": [
    "### Accessing and changing rank 2 ndarray"
   ]
  },
  {
   "cell_type": "code",
   "execution_count": 7,
   "id": "f65f96c4",
   "metadata": {},
   "outputs": [
    {
     "name": "stdout",
     "output_type": "stream",
     "text": [
      "[[1 2 3]\n",
      " [4 5 6]\n",
      " [7 8 9]]\n"
     ]
    }
   ],
   "source": [
    "y = np.arange(1, 10).reshape(3,3)\n",
    "print(y)"
   ]
  },
  {
   "cell_type": "code",
   "execution_count": 8,
   "id": "45ca51c3",
   "metadata": {},
   "outputs": [
    {
     "name": "stdout",
     "output_type": "stream",
     "text": [
      "element at (0, 0): 1\n",
      "element at (0, 1): 2\n",
      "element at (2, 2): 9\n"
     ]
    }
   ],
   "source": [
    "# 1 2 9\n",
    "print('element at (0, 0):', y[0, 0])\n",
    "print('element at (0, 1):', y[0, 1])\n",
    "print('element at (2, 2):', y[2, 2])"
   ]
  },
  {
   "cell_type": "code",
   "execution_count": 9,
   "id": "2b7d6eec",
   "metadata": {},
   "outputs": [
    {
     "name": "stdout",
     "output_type": "stream",
     "text": [
      "[[20  2  3]\n",
      " [ 4  5  6]\n",
      " [ 7  8  9]]\n"
     ]
    }
   ],
   "source": [
    "y[0, 0] = 20\n",
    "print(y)"
   ]
  },
  {
   "cell_type": "markdown",
   "id": "90b85133",
   "metadata": {},
   "source": [
    "### Adding & Deleting elements"
   ]
  },
  {
   "cell_type": "code",
   "execution_count": 16,
   "id": "03efa4a7",
   "metadata": {},
   "outputs": [
    {
     "name": "stdout",
     "output_type": "stream",
     "text": [
      "[1 2 3 4 5]\n"
     ]
    }
   ],
   "source": [
    "m = np.arange(1, 6)\n",
    "print(m)"
   ]
  },
  {
   "cell_type": "code",
   "execution_count": 17,
   "id": "b98fa0ec",
   "metadata": {},
   "outputs": [
    {
     "name": "stdout",
     "output_type": "stream",
     "text": [
      "[2 3 4]\n"
     ]
    }
   ],
   "source": [
    "m = np.delete(m, [0, 4])\n",
    "print(m)"
   ]
  },
  {
   "cell_type": "code",
   "execution_count": 31,
   "id": "58350ddc",
   "metadata": {
    "scrolled": false
   },
   "outputs": [
    {
     "name": "stdout",
     "output_type": "stream",
     "text": [
      "Original array:\n",
      " [[1 2 3]\n",
      " [4 5 6]\n",
      " [7 8 9]]\n",
      "\n",
      "new array with first row deleted along axis=0\n",
      " [[4 5 6]\n",
      " [7 8 9]]\n",
      "\n",
      "new aary with second col deleted along axis=1\n",
      " [[1 3]\n",
      " [4 6]\n",
      " [7 9]]\n",
      "\n",
      "new array with 1st and 3rd cols deleted along with axis=1\n",
      " [[2]\n",
      " [5]\n",
      " [8]]\n"
     ]
    }
   ],
   "source": [
    "n = np.arange(1, 10).reshape(3, 3)\n",
    "print('Original array:\\n', n)\n",
    "\n",
    "w = np.delete(n, 0, axis=0)\n",
    "print('\\nnew array with first row deleted along axis=0\\n',w)\n",
    "\n",
    "q = np.delete(n, 1, axis=1)\n",
    "print('\\nnew aary with second col deleted along axis=1\\n', q)\n",
    "\n",
    "r = np.delete(n, [0, 2], axis=1)\n",
    "print('\\nnew array with 1st and 3rd cols deleted along with axis=1\\n', r)"
   ]
  },
  {
   "cell_type": "markdown",
   "id": "264e2d1f",
   "metadata": {},
   "source": [
    "### Append element array"
   ]
  },
  {
   "cell_type": "code",
   "execution_count": 33,
   "id": "7ecb48c5",
   "metadata": {},
   "outputs": [
    {
     "name": "stdout",
     "output_type": "stream",
     "text": [
      "[1 2 3 4 5]\n"
     ]
    }
   ],
   "source": [
    "v = np.arange(1, 6)\n",
    "print(v)"
   ]
  },
  {
   "cell_type": "code",
   "execution_count": 35,
   "id": "2432bfed",
   "metadata": {},
   "outputs": [
    {
     "name": "stdout",
     "output_type": "stream",
     "text": [
      "[1 2 3 4 5 6]\n"
     ]
    }
   ],
   "source": [
    "v = np.append(v, 6)\n",
    "print(v)"
   ]
  },
  {
   "cell_type": "code",
   "execution_count": 37,
   "id": "f4db1382",
   "metadata": {},
   "outputs": [
    {
     "name": "stdout",
     "output_type": "stream",
     "text": [
      "[1 2 3 4 5 6 7 8]\n"
     ]
    }
   ],
   "source": [
    "v = np.append(v, [7, 8])\n",
    "print(v)"
   ]
  },
  {
   "cell_type": "code",
   "execution_count": 58,
   "id": "99bb6e93",
   "metadata": {},
   "outputs": [
    {
     "name": "stdout",
     "output_type": "stream",
     "text": [
      "[[1 2 3]\n",
      " [4 5 6]\n",
      " [7 8 9]]\n"
     ]
    }
   ],
   "source": [
    "a = np.arange(1, 10).reshape(3, 3)\n",
    "print(a)"
   ]
  },
  {
   "cell_type": "code",
   "execution_count": 59,
   "id": "da997e46",
   "metadata": {},
   "outputs": [
    {
     "name": "stdout",
     "output_type": "stream",
     "text": [
      "[[ 1  2  3]\n",
      " [ 4  5  6]\n",
      " [ 7  8  9]\n",
      " [10 11 12]]\n"
     ]
    }
   ],
   "source": [
    "a = np.append(a, [[10, 11, 12]], axis=0)\n",
    "print(a)"
   ]
  },
  {
   "cell_type": "code",
   "execution_count": 60,
   "id": "f95ce81c",
   "metadata": {},
   "outputs": [
    {
     "name": "stdout",
     "output_type": "stream",
     "text": [
      "[[ 1  2  3 13]\n",
      " [ 4  5  6 14]\n",
      " [ 7  8  9 15]\n",
      " [10 11 12 16]]\n"
     ]
    }
   ],
   "source": [
    "a = np.append(a, [[13], [14], [15], [16]], axis=1)\n",
    "print(a)"
   ]
  },
  {
   "cell_type": "markdown",
   "id": "ec8fb69e",
   "metadata": {},
   "source": [
    "### Insert elements to nd-array"
   ]
  },
  {
   "cell_type": "code",
   "execution_count": 61,
   "id": "e69dc1f2",
   "metadata": {},
   "outputs": [
    {
     "name": "stdout",
     "output_type": "stream",
     "text": [
      "[1 2 5 6 7]\n"
     ]
    }
   ],
   "source": [
    "b = np.array([1, 2, 5, 6, 7])\n",
    "print(b)"
   ]
  },
  {
   "cell_type": "code",
   "execution_count": 62,
   "id": "dd7231f8",
   "metadata": {},
   "outputs": [
    {
     "name": "stdout",
     "output_type": "stream",
     "text": [
      "[1 2 3 4 5 6 7]\n"
     ]
    }
   ],
   "source": [
    "b = np.insert(b, 2, [3, 4])\n",
    "print(b)"
   ]
  },
  {
   "cell_type": "code",
   "execution_count": 94,
   "id": "9285c5b5",
   "metadata": {},
   "outputs": [
    {
     "name": "stdout",
     "output_type": "stream",
     "text": [
      "[[1 2 3]\n",
      " [7 8 9]]\n"
     ]
    }
   ],
   "source": [
    "c = np.array([[1, 2, 3], [7, 8, 9]])\n",
    "print(c)"
   ]
  },
  {
   "cell_type": "code",
   "execution_count": 95,
   "id": "68f79946",
   "metadata": {},
   "outputs": [
    {
     "name": "stdout",
     "output_type": "stream",
     "text": [
      "[[1 2 3]\n",
      " [4 5 6]\n",
      " [7 8 9]]\n"
     ]
    }
   ],
   "source": [
    "c = np.insert(c, 1, [4, 5, 6], axis=0)\n",
    "print(c)"
   ]
  },
  {
   "cell_type": "code",
   "execution_count": 96,
   "id": "778d7464",
   "metadata": {},
   "outputs": [
    {
     "name": "stdout",
     "output_type": "stream",
     "text": [
      "[[1 2 3]\n",
      " [4 5 6]\n",
      " [7 8 9]\n",
      " [0 0 0]]\n"
     ]
    }
   ],
   "source": [
    "c = np.insert(c, 3, 0, axis=0)\n",
    "print(c)"
   ]
  },
  {
   "cell_type": "code",
   "execution_count": 97,
   "id": "2833d0cb",
   "metadata": {},
   "outputs": [
    {
     "name": "stdout",
     "output_type": "stream",
     "text": [
      "[[10  1  2  3]\n",
      " [11  4  5  6]\n",
      " [12  7  8  9]\n",
      " [13  0  0  0]]\n"
     ]
    }
   ],
   "source": [
    "c = np.insert(c, 0, [10, 11, 12, 13], axis=1)\n",
    "print(c)"
   ]
  },
  {
   "cell_type": "code",
   "execution_count": 98,
   "id": "3c82f354",
   "metadata": {},
   "outputs": [
    {
     "name": "stdout",
     "output_type": "stream",
     "text": [
      "[[10  1  2  3  1]\n",
      " [11  4  5  6  1]\n",
      " [12  7  8  9  1]\n",
      " [13  0  0  0  1]]\n"
     ]
    }
   ],
   "source": [
    "c = np.insert(c, 4, 1, axis=1)\n",
    "print(c)"
   ]
  },
  {
   "cell_type": "markdown",
   "id": "1482d359",
   "metadata": {},
   "source": [
    "### Stacking: vstack, hstack"
   ]
  },
  {
   "cell_type": "code",
   "execution_count": 99,
   "id": "6728b80a",
   "metadata": {},
   "outputs": [
    {
     "name": "stdout",
     "output_type": "stream",
     "text": [
      "[1 2]\n"
     ]
    }
   ],
   "source": [
    "d = np.array([1, 2])\n",
    "print(d)"
   ]
  },
  {
   "cell_type": "code",
   "execution_count": 100,
   "id": "624c6297",
   "metadata": {},
   "outputs": [
    {
     "name": "stdout",
     "output_type": "stream",
     "text": [
      "[[3 4]\n",
      " [5 6]]\n"
     ]
    }
   ],
   "source": [
    "e = np.array([[3, 4], [5, 6]])\n",
    "print(e)"
   ]
  },
  {
   "cell_type": "code",
   "execution_count": 106,
   "id": "3b2ad365",
   "metadata": {},
   "outputs": [
    {
     "name": "stdout",
     "output_type": "stream",
     "text": [
      "[[1 2]\n",
      " [3 4]\n",
      " [5 6]]\n"
     ]
    }
   ],
   "source": [
    "f = np.vstack((d, e))\n",
    "print(f)"
   ]
  },
  {
   "cell_type": "code",
   "execution_count": 109,
   "id": "551b39e7",
   "metadata": {},
   "outputs": [
    {
     "name": "stdout",
     "output_type": "stream",
     "text": [
      "[[3 4 1]\n",
      " [5 6 2]]\n"
     ]
    }
   ],
   "source": [
    "j = np.hstack((e, d.reshape(2, 1)))\n",
    "print(j)"
   ]
  },
  {
   "cell_type": "code",
   "execution_count": null,
   "id": "7842eb1b",
   "metadata": {},
   "outputs": [],
   "source": []
  }
 ],
 "metadata": {
  "kernelspec": {
   "display_name": "Python 3 (ipykernel)",
   "language": "python",
   "name": "python3"
  },
  "language_info": {
   "codemirror_mode": {
    "name": "ipython",
    "version": 3
   },
   "file_extension": ".py",
   "mimetype": "text/x-python",
   "name": "python",
   "nbconvert_exporter": "python",
   "pygments_lexer": "ipython3",
   "version": "3.8.6"
  }
 },
 "nbformat": 4,
 "nbformat_minor": 5
}
