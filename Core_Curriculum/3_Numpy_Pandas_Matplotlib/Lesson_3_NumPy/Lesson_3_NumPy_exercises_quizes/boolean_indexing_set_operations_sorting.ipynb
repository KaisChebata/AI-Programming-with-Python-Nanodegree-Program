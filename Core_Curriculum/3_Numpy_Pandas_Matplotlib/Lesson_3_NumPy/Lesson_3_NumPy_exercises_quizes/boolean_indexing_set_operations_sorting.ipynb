{
 "cells": [
  {
   "cell_type": "markdown",
   "id": "c03a6e9c",
   "metadata": {},
   "source": [
    "### Boolean indexing"
   ]
  },
  {
   "cell_type": "code",
   "execution_count": 1,
   "id": "849d95d9",
   "metadata": {},
   "outputs": [],
   "source": [
    "import numpy as np"
   ]
  },
  {
   "cell_type": "code",
   "execution_count": 2,
   "id": "0bab101e",
   "metadata": {},
   "outputs": [
    {
     "name": "stdout",
     "output_type": "stream",
     "text": [
      "[[ 0  1  2  3  4]\n",
      " [ 5  6  7  8  9]\n",
      " [10 11 12 13 14]\n",
      " [15 16 17 18 19]\n",
      " [20 21 22 23 24]]\n"
     ]
    }
   ],
   "source": [
    "x = np.arange(25).reshape(5, 5)\n",
    "print(x)"
   ]
  },
  {
   "cell_type": "code",
   "execution_count": 26,
   "id": "c092ebed",
   "metadata": {},
   "outputs": [
    {
     "name": "stdout",
     "output_type": "stream",
     "text": [
      "[11 12 13 14 15 16 17 18 19 20 21 22 23 24]\n"
     ]
    }
   ],
   "source": [
    "# indexing elements under certain creteria\n",
    "target = x[x > 10]\n",
    "print(target)"
   ]
  },
  {
   "cell_type": "code",
   "execution_count": 24,
   "id": "3747acb7",
   "metadata": {},
   "outputs": [
    {
     "name": "stdout",
     "output_type": "stream",
     "text": [
      "x[2, 1]\n",
      "x[2, 2]\n",
      "x[2, 3]\n",
      "x[2, 4]\n",
      "x[3, 0]\n",
      "x[3, 1]\n",
      "x[3, 2]\n",
      "x[3, 3]\n",
      "x[3, 4]\n",
      "x[4, 0]\n",
      "x[4, 1]\n",
      "x[4, 2]\n",
      "x[4, 3]\n",
      "x[4, 4]\n"
     ]
    }
   ],
   "source": [
    "# Get indices of targeted elements\n",
    "r, c = np.where(x > 10)\n",
    "for i, j in zip(r, c):\n",
    "    print (f'x[{i}, {j}]')"
   ]
  },
  {
   "cell_type": "code",
   "execution_count": 27,
   "id": "9b8b16fc",
   "metadata": {},
   "outputs": [
    {
     "name": "stdout",
     "output_type": "stream",
     "text": [
      "[0 1 2 3 4 5 6 7]\n"
     ]
    }
   ],
   "source": [
    "print(x[x <= 7])"
   ]
  },
  {
   "cell_type": "code",
   "execution_count": 34,
   "id": "f8cc06ee",
   "metadata": {},
   "outputs": [
    {
     "name": "stdout",
     "output_type": "stream",
     "text": [
      "[11 12 13 14 15 16]\n"
     ]
    }
   ],
   "source": [
    "t = x[(x > 10) & (x < 17)]\n",
    "print(t)"
   ]
  },
  {
   "cell_type": "markdown",
   "id": "7227fa73",
   "metadata": {},
   "source": [
    "### Assigning to elements using Boolean indexing"
   ]
  },
  {
   "cell_type": "code",
   "execution_count": 41,
   "id": "7bb05774",
   "metadata": {},
   "outputs": [
    {
     "name": "stdout",
     "output_type": "stream",
     "text": [
      "[[ 0  1  2  3  4]\n",
      " [ 5  6  7  8  9]\n",
      " [10 11 12 13 14]\n",
      " [15 16 17 18 19]\n",
      " [20 21 22 23 24]]\n"
     ]
    }
   ],
   "source": [
    "y = x.copy()\n",
    "print(y)"
   ]
  },
  {
   "cell_type": "code",
   "execution_count": 42,
   "id": "de433502",
   "metadata": {},
   "outputs": [
    {
     "name": "stdout",
     "output_type": "stream",
     "text": [
      "[[ 0  1  2  3  4]\n",
      " [ 5  6  7  8  9]\n",
      " [10 -1 -1 -1 -1]\n",
      " [-1 -1 17 18 19]\n",
      " [20 21 22 23 24]]\n"
     ]
    }
   ],
   "source": [
    "y[(y > 10) & (y < 17)] = -1\n",
    "print(y)"
   ]
  },
  {
   "cell_type": "markdown",
   "id": "46524af8",
   "metadata": {},
   "source": [
    "### Set Operations"
   ]
  },
  {
   "cell_type": "code",
   "execution_count": 53,
   "id": "ef554600",
   "metadata": {},
   "outputs": [
    {
     "name": "stdout",
     "output_type": "stream",
     "text": [
      "Common elements (intersection): [2 4]\n",
      "diff  elements (setdiff): [1 3 5]\n",
      "Union : [1 2 3 4 5 6 7 8]\n"
     ]
    }
   ],
   "source": [
    "a = np.array([1, 2, 3, 4, 5])\n",
    "b = np.array([6, 7, 2, 8, 4])\n",
    "\n",
    "print('Common elements (intersection):', np.intersect1d(a, b))\n",
    "print('diff  elements (setdiff):', np.setdiff1d(a, b))\n",
    "print('Union :', np.union1d(a, b))"
   ]
  },
  {
   "cell_type": "markdown",
   "id": "2d16e699",
   "metadata": {},
   "source": [
    "### Sorting"
   ]
  },
  {
   "cell_type": "markdown",
   "id": "e8282e10",
   "metadata": {},
   "source": [
    "### Notes\n",
    "    np.sort function sort out of place\n",
    "    arr.sort method sort in place"
   ]
  },
  {
   "cell_type": "code",
   "execution_count": 55,
   "id": "447a9cd8",
   "metadata": {},
   "outputs": [
    {
     "name": "stdout",
     "output_type": "stream",
     "text": [
      "[10  2  4 10  4  9  8 10  9  7]\n"
     ]
    }
   ],
   "source": [
    "m = np.random.randint(1, 11, size=(10,))\n",
    "print(m)"
   ]
  },
  {
   "cell_type": "markdown",
   "id": "9b9cd6da",
   "metadata": {},
   "source": [
    "### Sorting out of place"
   ]
  },
  {
   "cell_type": "code",
   "execution_count": 87,
   "id": "b8c0ee0f",
   "metadata": {},
   "outputs": [
    {
     "name": "stdout",
     "output_type": "stream",
     "text": [
      "original: [10  2  4 10  4  9  8 10  9  7]\n",
      "copy after sort: [ 2  4  4  7  8  9  9 10 10 10]\n",
      "copy after sort with uniques: [ 2  4  7  8  9 10]\n",
      "original after sort: [10  2  4 10  4  9  8 10  9  7]\n"
     ]
    }
   ],
   "source": [
    "print('original:', m)\n",
    "print('copy after sort:', np.sort(m))\n",
    "print('copy after sort with uniques:', np.sort(np.unique(m)))\n",
    "print('original after sort:', m)"
   ]
  },
  {
   "cell_type": "markdown",
   "id": "f27b83ac",
   "metadata": {},
   "source": [
    "### Sorting in place"
   ]
  },
  {
   "cell_type": "code",
   "execution_count": 93,
   "id": "244061c3",
   "metadata": {},
   "outputs": [
    {
     "name": "stdout",
     "output_type": "stream",
     "text": [
      "sorting: ..... None\n",
      "original: [ 2  4  4  7  8  9  9 10 10 10]\n",
      "original after sort with unique: [ 2  4  7  8  9 10]\n",
      "\n"
     ]
    }
   ],
   "source": [
    "print('sorting: .....', m.sort())\n",
    "print('original:', m)\n",
    "print('original after sort with unique:', np.unique(m))\n",
    "print()"
   ]
  },
  {
   "cell_type": "code",
   "execution_count": 115,
   "id": "a559d66d",
   "metadata": {},
   "outputs": [
    {
     "name": "stdout",
     "output_type": "stream",
     "text": [
      "[ 7  9  6  5  2 10  6  2  7  9]\n"
     ]
    }
   ],
   "source": [
    "f = np.random.randint(1,11,size=(10,))\n",
    "print(f)"
   ]
  },
  {
   "cell_type": "code",
   "execution_count": 117,
   "id": "26adaad6",
   "metadata": {},
   "outputs": [
    {
     "name": "stdout",
     "output_type": "stream",
     "text": [
      "[ 2  5  6  7  9 10]\n"
     ]
    }
   ],
   "source": [
    "# Sort by np.unique\n",
    "print(np.unique(f))"
   ]
  },
  {
   "cell_type": "markdown",
   "id": "4a2fb890",
   "metadata": {},
   "source": [
    "### Sortin rank 2 nd-array"
   ]
  },
  {
   "cell_type": "code",
   "execution_count": 110,
   "id": "fc361536",
   "metadata": {},
   "outputs": [
    {
     "name": "stdout",
     "output_type": "stream",
     "text": [
      "[[ 3  5  7  6 10]\n",
      " [ 7  7  5  6  8]\n",
      " [ 3  3  5 10  6]\n",
      " [ 1 10  8  4  4]\n",
      " [10  9  8  9  3]]\n"
     ]
    }
   ],
   "source": [
    "n = np.random.randint(1, 11, size=(5, 5))\n",
    "print(n)"
   ]
  },
  {
   "cell_type": "code",
   "execution_count": 111,
   "id": "69fcd944",
   "metadata": {},
   "outputs": [
    {
     "name": "stdout",
     "output_type": "stream",
     "text": [
      "[[ 1  3  5  4  3]\n",
      " [ 3  5  5  6  4]\n",
      " [ 3  7  7  6  6]\n",
      " [ 7  9  8  9  8]\n",
      " [10 10  8 10 10]]\n"
     ]
    }
   ],
   "source": [
    "print(np.sort(n, axis=0))"
   ]
  },
  {
   "cell_type": "code",
   "execution_count": 112,
   "id": "66ed4ca2",
   "metadata": {},
   "outputs": [
    {
     "name": "stdout",
     "output_type": "stream",
     "text": [
      "[[ 3  5  6  7 10]\n",
      " [ 5  6  7  7  8]\n",
      " [ 3  3  5  6 10]\n",
      " [ 1  4  4  8 10]\n",
      " [ 3  8  9  9 10]]\n"
     ]
    }
   ],
   "source": [
    "print(np.sort(n, axis=1))"
   ]
  },
  {
   "cell_type": "code",
   "execution_count": null,
   "id": "dde6f3b9",
   "metadata": {},
   "outputs": [],
   "source": []
  }
 ],
 "metadata": {
  "kernelspec": {
   "display_name": "Python 3 (ipykernel)",
   "language": "python",
   "name": "python3"
  },
  "language_info": {
   "codemirror_mode": {
    "name": "ipython",
    "version": 3
   },
   "file_extension": ".py",
   "mimetype": "text/x-python",
   "name": "python",
   "nbconvert_exporter": "python",
   "pygments_lexer": "ipython3",
   "version": "3.8.6"
  }
 },
 "nbformat": 4,
 "nbformat_minor": 5
}
