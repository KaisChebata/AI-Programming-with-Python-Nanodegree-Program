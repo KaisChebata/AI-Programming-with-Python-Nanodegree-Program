{
 "cells": [
  {
   "cell_type": "code",
   "execution_count": 4,
   "id": "a037d6d7",
   "metadata": {},
   "outputs": [
    {
     "name": "stdout",
     "output_type": "stream",
     "text": [
      "Hello, World from Code Cell\n"
     ]
    }
   ],
   "source": [
    "print('Hello, World from Code Cell')\n",
    "\n",
    "# Hello, World from MD Cell\n",
    "\n"
   ]
  },
  {
   "cell_type": "markdown",
   "id": "75480971",
   "metadata": {},
   "source": [
    "# Hello, World from MD Cell\n",
    "\n"
   ]
  },
  {
   "cell_type": "code",
   "execution_count": 8,
   "id": "547ae869",
   "metadata": {},
   "outputs": [
    {
     "ename": "SyntaxError",
     "evalue": "invalid syntax (Temp/ipykernel_1128/3467962591.py, line 1)",
     "output_type": "error",
     "traceback": [
      "\u001b[1;36m  File \u001b[1;32m\"C:\\Users\\IDEAL\\AppData\\Local\\Temp/ipykernel_1128/3467962591.py\"\u001b[1;36m, line \u001b[1;32m1\u001b[0m\n\u001b[1;33m    $$\u001b[0m\n\u001b[1;37m    ^\u001b[0m\n\u001b[1;31mSyntaxError\u001b[0m\u001b[1;31m:\u001b[0m invalid syntax\n"
     ]
    }
   ],
   "source": [
    "$$\n",
    "y = mx + b\n",
    "$$"
   ]
  }
 ],
 "metadata": {
  "kernelspec": {
   "display_name": "Python 3 (ipykernel)",
   "language": "python",
   "name": "python3"
  },
  "language_info": {
   "codemirror_mode": {
    "name": "ipython",
    "version": 3
   },
   "file_extension": ".py",
   "mimetype": "text/x-python",
   "name": "python",
   "nbconvert_exporter": "python",
   "pygments_lexer": "ipython3",
   "version": "3.8.6"
  }
 },
 "nbformat": 4,
 "nbformat_minor": 5
}
