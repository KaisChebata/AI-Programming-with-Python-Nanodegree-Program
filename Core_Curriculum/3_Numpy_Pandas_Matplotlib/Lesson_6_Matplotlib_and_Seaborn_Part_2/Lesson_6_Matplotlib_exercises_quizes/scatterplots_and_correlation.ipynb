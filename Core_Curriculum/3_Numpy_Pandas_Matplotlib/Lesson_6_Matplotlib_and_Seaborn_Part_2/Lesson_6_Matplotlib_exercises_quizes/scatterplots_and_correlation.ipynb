{
 "cells": [
  {
   "cell_type": "markdown",
   "id": "ed967799",
   "metadata": {},
   "source": [
    "### Scatterplots and Correlation"
   ]
  },
  {
   "cell_type": "markdown",
   "id": "bad05c12",
   "metadata": {},
   "source": [
    "#### imports and data prep"
   ]
  },
  {
   "cell_type": "code",
   "execution_count": 21,
   "id": "6b285d54",
   "metadata": {},
   "outputs": [],
   "source": [
    "import numpy as np\n",
    "import pandas as pd\n",
    "import matplotlib.pyplot as plt\n",
    "import seaborn as sb\n",
    "\n",
    "%matplotlib inline"
   ]
  },
  {
   "cell_type": "code",
   "execution_count": 22,
   "id": "a5350de4",
   "metadata": {},
   "outputs": [
    {
     "data": {
      "text/html": [
       "<div>\n",
       "<style scoped>\n",
       "    .dataframe tbody tr th:only-of-type {\n",
       "        vertical-align: middle;\n",
       "    }\n",
       "\n",
       "    .dataframe tbody tr th {\n",
       "        vertical-align: top;\n",
       "    }\n",
       "\n",
       "    .dataframe thead th {\n",
       "        text-align: right;\n",
       "    }\n",
       "</style>\n",
       "<table border=\"1\" class=\"dataframe\">\n",
       "  <thead>\n",
       "    <tr style=\"text-align: right;\">\n",
       "      <th></th>\n",
       "      <th>id</th>\n",
       "      <th>make</th>\n",
       "      <th>model</th>\n",
       "      <th>year</th>\n",
       "      <th>VClass</th>\n",
       "      <th>drive</th>\n",
       "      <th>trans</th>\n",
       "      <th>fuelType</th>\n",
       "      <th>cylinders</th>\n",
       "      <th>displ</th>\n",
       "      <th>pv2</th>\n",
       "      <th>pv4</th>\n",
       "      <th>city</th>\n",
       "      <th>UCity</th>\n",
       "      <th>highway</th>\n",
       "      <th>UHighway</th>\n",
       "      <th>comb</th>\n",
       "      <th>co2</th>\n",
       "      <th>feScore</th>\n",
       "      <th>ghgScore</th>\n",
       "    </tr>\n",
       "  </thead>\n",
       "  <tbody>\n",
       "    <tr>\n",
       "      <th>0</th>\n",
       "      <td>32204</td>\n",
       "      <td>Nissan</td>\n",
       "      <td>GT-R</td>\n",
       "      <td>2013</td>\n",
       "      <td>Subcompact Cars</td>\n",
       "      <td>All-Wheel Drive</td>\n",
       "      <td>Automatic (AM6)</td>\n",
       "      <td>Premium Gasoline</td>\n",
       "      <td>6</td>\n",
       "      <td>3.8</td>\n",
       "      <td>79</td>\n",
       "      <td>0</td>\n",
       "      <td>16.4596</td>\n",
       "      <td>20.2988</td>\n",
       "      <td>22.5568</td>\n",
       "      <td>30.1798</td>\n",
       "      <td>18.7389</td>\n",
       "      <td>471</td>\n",
       "      <td>4</td>\n",
       "      <td>4</td>\n",
       "    </tr>\n",
       "    <tr>\n",
       "      <th>1</th>\n",
       "      <td>32205</td>\n",
       "      <td>Volkswagen</td>\n",
       "      <td>CC</td>\n",
       "      <td>2013</td>\n",
       "      <td>Compact Cars</td>\n",
       "      <td>Front-Wheel Drive</td>\n",
       "      <td>Automatic (AM-S6)</td>\n",
       "      <td>Premium Gasoline</td>\n",
       "      <td>4</td>\n",
       "      <td>2.0</td>\n",
       "      <td>94</td>\n",
       "      <td>0</td>\n",
       "      <td>21.8706</td>\n",
       "      <td>26.9770</td>\n",
       "      <td>31.0367</td>\n",
       "      <td>42.4936</td>\n",
       "      <td>25.2227</td>\n",
       "      <td>349</td>\n",
       "      <td>6</td>\n",
       "      <td>6</td>\n",
       "    </tr>\n",
       "    <tr>\n",
       "      <th>2</th>\n",
       "      <td>32206</td>\n",
       "      <td>Volkswagen</td>\n",
       "      <td>CC</td>\n",
       "      <td>2013</td>\n",
       "      <td>Compact Cars</td>\n",
       "      <td>Front-Wheel Drive</td>\n",
       "      <td>Automatic (S6)</td>\n",
       "      <td>Premium Gasoline</td>\n",
       "      <td>6</td>\n",
       "      <td>3.6</td>\n",
       "      <td>94</td>\n",
       "      <td>0</td>\n",
       "      <td>17.4935</td>\n",
       "      <td>21.2000</td>\n",
       "      <td>26.5716</td>\n",
       "      <td>35.1000</td>\n",
       "      <td>20.6716</td>\n",
       "      <td>429</td>\n",
       "      <td>5</td>\n",
       "      <td>5</td>\n",
       "    </tr>\n",
       "    <tr>\n",
       "      <th>3</th>\n",
       "      <td>32207</td>\n",
       "      <td>Volkswagen</td>\n",
       "      <td>CC 4motion</td>\n",
       "      <td>2013</td>\n",
       "      <td>Compact Cars</td>\n",
       "      <td>All-Wheel Drive</td>\n",
       "      <td>Automatic (S6)</td>\n",
       "      <td>Premium Gasoline</td>\n",
       "      <td>6</td>\n",
       "      <td>3.6</td>\n",
       "      <td>94</td>\n",
       "      <td>0</td>\n",
       "      <td>16.9415</td>\n",
       "      <td>20.5000</td>\n",
       "      <td>25.2190</td>\n",
       "      <td>33.5000</td>\n",
       "      <td>19.8774</td>\n",
       "      <td>446</td>\n",
       "      <td>5</td>\n",
       "      <td>5</td>\n",
       "    </tr>\n",
       "    <tr>\n",
       "      <th>4</th>\n",
       "      <td>32208</td>\n",
       "      <td>Chevrolet</td>\n",
       "      <td>Malibu eAssist</td>\n",
       "      <td>2013</td>\n",
       "      <td>Midsize Cars</td>\n",
       "      <td>Front-Wheel Drive</td>\n",
       "      <td>Automatic (S6)</td>\n",
       "      <td>Regular Gasoline</td>\n",
       "      <td>4</td>\n",
       "      <td>2.4</td>\n",
       "      <td>0</td>\n",
       "      <td>95</td>\n",
       "      <td>24.7726</td>\n",
       "      <td>31.9796</td>\n",
       "      <td>35.5340</td>\n",
       "      <td>51.8816</td>\n",
       "      <td>28.6813</td>\n",
       "      <td>310</td>\n",
       "      <td>8</td>\n",
       "      <td>8</td>\n",
       "    </tr>\n",
       "    <tr>\n",
       "      <th>5</th>\n",
       "      <td>32209</td>\n",
       "      <td>Lexus</td>\n",
       "      <td>GS 350</td>\n",
       "      <td>2013</td>\n",
       "      <td>Midsize Cars</td>\n",
       "      <td>Rear-Wheel Drive</td>\n",
       "      <td>Automatic (S6)</td>\n",
       "      <td>Premium Gasoline</td>\n",
       "      <td>6</td>\n",
       "      <td>3.5</td>\n",
       "      <td>0</td>\n",
       "      <td>99</td>\n",
       "      <td>19.4325</td>\n",
       "      <td>24.1499</td>\n",
       "      <td>28.2234</td>\n",
       "      <td>38.5000</td>\n",
       "      <td>22.6002</td>\n",
       "      <td>393</td>\n",
       "      <td>6</td>\n",
       "      <td>6</td>\n",
       "    </tr>\n",
       "    <tr>\n",
       "      <th>6</th>\n",
       "      <td>32210</td>\n",
       "      <td>Lexus</td>\n",
       "      <td>GS 350 AWD</td>\n",
       "      <td>2013</td>\n",
       "      <td>Midsize Cars</td>\n",
       "      <td>All-Wheel Drive</td>\n",
       "      <td>Automatic (S6)</td>\n",
       "      <td>Premium Gasoline</td>\n",
       "      <td>6</td>\n",
       "      <td>3.5</td>\n",
       "      <td>0</td>\n",
       "      <td>99</td>\n",
       "      <td>18.5752</td>\n",
       "      <td>23.5261</td>\n",
       "      <td>26.3573</td>\n",
       "      <td>36.2109</td>\n",
       "      <td>21.4213</td>\n",
       "      <td>412</td>\n",
       "      <td>5</td>\n",
       "      <td>5</td>\n",
       "    </tr>\n",
       "    <tr>\n",
       "      <th>7</th>\n",
       "      <td>32214</td>\n",
       "      <td>Hyundai</td>\n",
       "      <td>Genesis Coupe</td>\n",
       "      <td>2013</td>\n",
       "      <td>Subcompact Cars</td>\n",
       "      <td>Rear-Wheel Drive</td>\n",
       "      <td>Automatic 8-spd</td>\n",
       "      <td>Premium Gasoline</td>\n",
       "      <td>4</td>\n",
       "      <td>2.0</td>\n",
       "      <td>89</td>\n",
       "      <td>0</td>\n",
       "      <td>17.4460</td>\n",
       "      <td>21.7946</td>\n",
       "      <td>26.6295</td>\n",
       "      <td>37.6731</td>\n",
       "      <td>20.6507</td>\n",
       "      <td>432</td>\n",
       "      <td>5</td>\n",
       "      <td>5</td>\n",
       "    </tr>\n",
       "    <tr>\n",
       "      <th>8</th>\n",
       "      <td>32215</td>\n",
       "      <td>Hyundai</td>\n",
       "      <td>Genesis Coupe</td>\n",
       "      <td>2013</td>\n",
       "      <td>Subcompact Cars</td>\n",
       "      <td>Rear-Wheel Drive</td>\n",
       "      <td>Manual 6-spd</td>\n",
       "      <td>Premium Gasoline</td>\n",
       "      <td>4</td>\n",
       "      <td>2.0</td>\n",
       "      <td>89</td>\n",
       "      <td>0</td>\n",
       "      <td>20.6741</td>\n",
       "      <td>26.2000</td>\n",
       "      <td>29.2741</td>\n",
       "      <td>41.8000</td>\n",
       "      <td>23.8235</td>\n",
       "      <td>375</td>\n",
       "      <td>6</td>\n",
       "      <td>6</td>\n",
       "    </tr>\n",
       "    <tr>\n",
       "      <th>9</th>\n",
       "      <td>32216</td>\n",
       "      <td>Hyundai</td>\n",
       "      <td>Genesis Coupe</td>\n",
       "      <td>2013</td>\n",
       "      <td>Subcompact Cars</td>\n",
       "      <td>Rear-Wheel Drive</td>\n",
       "      <td>Automatic 8-spd</td>\n",
       "      <td>Premium Gasoline</td>\n",
       "      <td>6</td>\n",
       "      <td>3.8</td>\n",
       "      <td>89</td>\n",
       "      <td>0</td>\n",
       "      <td>16.4675</td>\n",
       "      <td>20.4839</td>\n",
       "      <td>24.5605</td>\n",
       "      <td>34.4972</td>\n",
       "      <td>19.3344</td>\n",
       "      <td>461</td>\n",
       "      <td>4</td>\n",
       "      <td>4</td>\n",
       "    </tr>\n",
       "  </tbody>\n",
       "</table>\n",
       "</div>"
      ],
      "text/plain": [
       "      id        make           model  year           VClass  \\\n",
       "0  32204      Nissan            GT-R  2013  Subcompact Cars   \n",
       "1  32205  Volkswagen              CC  2013     Compact Cars   \n",
       "2  32206  Volkswagen              CC  2013     Compact Cars   \n",
       "3  32207  Volkswagen      CC 4motion  2013     Compact Cars   \n",
       "4  32208   Chevrolet  Malibu eAssist  2013     Midsize Cars   \n",
       "5  32209       Lexus          GS 350  2013     Midsize Cars   \n",
       "6  32210       Lexus      GS 350 AWD  2013     Midsize Cars   \n",
       "7  32214     Hyundai   Genesis Coupe  2013  Subcompact Cars   \n",
       "8  32215     Hyundai   Genesis Coupe  2013  Subcompact Cars   \n",
       "9  32216     Hyundai   Genesis Coupe  2013  Subcompact Cars   \n",
       "\n",
       "               drive              trans          fuelType  cylinders  displ  \\\n",
       "0    All-Wheel Drive    Automatic (AM6)  Premium Gasoline          6    3.8   \n",
       "1  Front-Wheel Drive  Automatic (AM-S6)  Premium Gasoline          4    2.0   \n",
       "2  Front-Wheel Drive     Automatic (S6)  Premium Gasoline          6    3.6   \n",
       "3    All-Wheel Drive     Automatic (S6)  Premium Gasoline          6    3.6   \n",
       "4  Front-Wheel Drive     Automatic (S6)  Regular Gasoline          4    2.4   \n",
       "5   Rear-Wheel Drive     Automatic (S6)  Premium Gasoline          6    3.5   \n",
       "6    All-Wheel Drive     Automatic (S6)  Premium Gasoline          6    3.5   \n",
       "7   Rear-Wheel Drive    Automatic 8-spd  Premium Gasoline          4    2.0   \n",
       "8   Rear-Wheel Drive       Manual 6-spd  Premium Gasoline          4    2.0   \n",
       "9   Rear-Wheel Drive    Automatic 8-spd  Premium Gasoline          6    3.8   \n",
       "\n",
       "   pv2  pv4     city    UCity  highway  UHighway     comb  co2  feScore  \\\n",
       "0   79    0  16.4596  20.2988  22.5568   30.1798  18.7389  471        4   \n",
       "1   94    0  21.8706  26.9770  31.0367   42.4936  25.2227  349        6   \n",
       "2   94    0  17.4935  21.2000  26.5716   35.1000  20.6716  429        5   \n",
       "3   94    0  16.9415  20.5000  25.2190   33.5000  19.8774  446        5   \n",
       "4    0   95  24.7726  31.9796  35.5340   51.8816  28.6813  310        8   \n",
       "5    0   99  19.4325  24.1499  28.2234   38.5000  22.6002  393        6   \n",
       "6    0   99  18.5752  23.5261  26.3573   36.2109  21.4213  412        5   \n",
       "7   89    0  17.4460  21.7946  26.6295   37.6731  20.6507  432        5   \n",
       "8   89    0  20.6741  26.2000  29.2741   41.8000  23.8235  375        6   \n",
       "9   89    0  16.4675  20.4839  24.5605   34.4972  19.3344  461        4   \n",
       "\n",
       "   ghgScore  \n",
       "0         4  \n",
       "1         6  \n",
       "2         5  \n",
       "3         5  \n",
       "4         8  \n",
       "5         6  \n",
       "6         5  \n",
       "7         5  \n",
       "8         6  \n",
       "9         4  "
      ]
     },
     "execution_count": 22,
     "metadata": {},
     "output_type": "execute_result"
    }
   ],
   "source": [
    "fuel_econ = pd.read_csv('./fuel_econ.csv')\n",
    "fuel_econ.head(10)"
   ]
  },
  {
   "cell_type": "markdown",
   "id": "20eef044",
   "metadata": {},
   "source": [
    "### Scatter plot showing negative correlation between two variables"
   ]
  },
  {
   "cell_type": "code",
   "execution_count": 23,
   "id": "74d29585",
   "metadata": {},
   "outputs": [
    {
     "data": {
      "image/png": "[encoded data removed]",
      "text/plain": [
       "<Figure size 432x288 with 1 Axes>"
      ]
     },
     "metadata": {
      "needs_background": "light"
     },
     "output_type": "display_data"
    }
   ],
   "source": [
    "plt.scatter(data=fuel_econ, x='displ', y='comb');\n",
    "plt.xlabel('Displacement (1)');\n",
    "plt.ylabel('Combined Fuel EFF. (mpg)');"
   ]
  },
  {
   "cell_type": "markdown",
   "id": "f0fb69e1",
   "metadata": {},
   "source": [
    "### Scatter plot showing negative correlation between two variables using Seaborn - `seaborn.regplot()` with regression line"
   ]
  },
  {
   "cell_type": "code",
   "execution_count": 24,
   "id": "cbec8e7b",
   "metadata": {},
   "outputs": [
    {
     "data": {
      "image/png": "[encoded data removed]",
      "text/plain": [
       "<Figure size 432x288 with 1 Axes>"
      ]
     },
     "metadata": {
      "needs_background": "light"
     },
     "output_type": "display_data"
    }
   ],
   "source": [
    "sb.regplot(data=fuel_econ, x='displ', y='comb');\n",
    "plt.xlabel('Displacement (1)');\n",
    "plt.ylabel('Combined Fuel EFF. (mpg)');"
   ]
  },
  {
   "cell_type": "markdown",
   "id": "d5a45e9a",
   "metadata": {},
   "source": [
    "### Scatter plot showing negative correlation between two variables without regression line"
   ]
  },
  {
   "cell_type": "code",
   "execution_count": 25,
   "id": "a4a30371",
   "metadata": {},
   "outputs": [
    {
     "data": {
      "image/png": "[encoded data removed]",
      "text/plain": [
       "<Figure size 432x288 with 1 Axes>"
      ]
     },
     "metadata": {
      "needs_background": "light"
     },
     "output_type": "display_data"
    }
   ],
   "source": [
    "sb.regplot(data=fuel_econ, x='displ', y='comb', fit_reg=False);\n",
    "plt.xlabel('Displacement (1)');\n",
    "plt.ylabel('Combined Fuel EFF. (mpg)');"
   ]
  },
  {
   "cell_type": "markdown",
   "id": "f86b9181",
   "metadata": {},
   "source": [
    "### Plot the regression line on the transformed data"
   ]
  },
  {
   "cell_type": "code",
   "execution_count": 26,
   "id": "85411d23",
   "metadata": {},
   "outputs": [],
   "source": [
    "def log_trans(x, inverse=False):\n",
    "    if not inverse:\n",
    "        return np.log10(x)\n",
    "    else:\n",
    "        return np.power(10, x)\n"
   ]
  },
  {
   "cell_type": "code",
   "execution_count": 27,
   "id": "5fbc6661",
   "metadata": {},
   "outputs": [
    {
     "data": {
      "image/png": "[encoded data removed]",
      "text/plain": [
       "<Figure size 432x288 with 1 Axes>"
      ]
     },
     "metadata": {
      "needs_background": "light"
     },
     "output_type": "display_data"
    }
   ],
   "source": [
    "sb.regplot(x=fuel_econ['displ'], y=fuel_econ['comb'].apply(log_trans));\n",
    "tick_locs = [10, 20, 50, 100]\n",
    "tick_labels = [f'{val}' for val in tick_locs]\n",
    "plt.yticks(log_trans(tick_locs), tick_labels);"
   ]
  },
  {
   "cell_type": "code",
   "execution_count": null,
   "id": "5bda42d2",
   "metadata": {},
   "outputs": [],
   "source": []
  }
 ],
 "metadata": {
  "kernelspec": {
   "display_name": "Python 3 (ipykernel)",
   "language": "python",
   "name": "python3"
  },
  "language_info": {
   "codemirror_mode": {
    "name": "ipython",
    "version": 3
   },
   "file_extension": ".py",
   "mimetype": "text/x-python",
   "name": "python",
   "nbconvert_exporter": "python",
   "pygments_lexer": "ipython3",
   "version": "3.8.6"
  }
 },
 "nbformat": 4,
 "nbformat_minor": 5
}
